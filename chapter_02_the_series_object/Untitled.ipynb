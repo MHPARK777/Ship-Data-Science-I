{
 "cells": [
  {
   "cell_type": "code",
   "execution_count": 1,
   "id": "e6343f2d",
   "metadata": {
    "ExecuteTime": {
     "end_time": "2025-03-08T23:41:06.225012Z",
     "start_time": "2025-03-08T23:41:05.627916Z"
    }
   },
   "outputs": [],
   "source": [
    "import pandas as pd\n",
    "import numpy as np"
   ]
  },
  {
   "cell_type": "code",
   "execution_count": 2,
   "id": "d59b35f9",
   "metadata": {
    "ExecuteTime": {
     "end_time": "2025-03-08T23:41:06.233239Z",
     "start_time": "2025-03-08T23:41:06.226019Z"
    }
   },
   "outputs": [
    {
     "data": {
      "text/plain": [
       "Series([], dtype: object)"
      ]
     },
     "execution_count": 2,
     "metadata": {},
     "output_type": "execute_result"
    }
   ],
   "source": [
    "pd.Series()"
   ]
  },
  {
   "cell_type": "code",
   "execution_count": 3,
   "id": "034cbf95",
   "metadata": {
    "ExecuteTime": {
     "end_time": "2025-03-08T23:41:06.239513Z",
     "start_time": "2025-03-08T23:41:06.234246Z"
    }
   },
   "outputs": [
    {
     "data": {
      "text/plain": [
       "0     chocolate\n",
       "1       vanilla\n",
       "2    strawberry\n",
       "3    rum raisin\n",
       "dtype: object"
      ]
     },
     "execution_count": 3,
     "metadata": {},
     "output_type": "execute_result"
    }
   ],
   "source": [
    "ice_cream_flavors = [\n",
    "    'chocolate',\n",
    "    'vanilla',\n",
    "    'strawberry',\n",
    "    'rum raisin',\n",
    "]\n",
    "\n",
    "pd.Series(ice_cream_flavors)"
   ]
  },
  {
   "cell_type": "code",
   "execution_count": 4,
   "id": "47d06610",
   "metadata": {
    "ExecuteTime": {
     "end_time": "2025-03-08T23:41:06.431496Z",
     "start_time": "2025-03-08T23:41:06.427251Z"
    }
   },
   "outputs": [
    {
     "data": {
      "text/plain": [
       "0     chocolate\n",
       "1       vanilla\n",
       "2    strawberry\n",
       "3    rum raisin\n",
       "dtype: object"
      ]
     },
     "execution_count": 4,
     "metadata": {},
     "output_type": "execute_result"
    }
   ],
   "source": [
    "pd.Series(ice_cream_flavors)\n",
    "pd.Series(data=ice_cream_flavors)"
   ]
  },
  {
   "cell_type": "code",
   "execution_count": 5,
   "id": "d610c4f7",
   "metadata": {
    "ExecuteTime": {
     "end_time": "2025-03-08T23:41:06.760911Z",
     "start_time": "2025-03-08T23:41:06.754647Z"
    }
   },
   "outputs": [
    {
     "data": {
      "text/plain": [
       "Monday        chocolate\n",
       "Wednesday       vanilla\n",
       "Friday       strawberry\n",
       "Saturday     rum raisin\n",
       "dtype: object"
      ]
     },
     "execution_count": 5,
     "metadata": {},
     "output_type": "execute_result"
    }
   ],
   "source": [
    "ice_cream_flavors = [\n",
    "    'chocolate',\n",
    "    'vanilla',\n",
    "    'strawberry',\n",
    "    'rum raisin',\n",
    "]\n",
    "\n",
    "days_of_week = ('Monday', 'Wednesday', 'Friday', 'Saturday')\n",
    "days_of_week = ['Monday', 'Wednesday', 'Friday', 'Saturday']\n",
    "\n",
    "pd.Series(ice_cream_flavors, days_of_week)\n",
    "pd.Series(data=ice_cream_flavors, index=days_of_week)"
   ]
  },
  {
   "cell_type": "code",
   "execution_count": 6,
   "id": "5d572a61",
   "metadata": {
    "ExecuteTime": {
     "end_time": "2025-03-08T23:41:07.120441Z",
     "start_time": "2025-03-08T23:41:07.114919Z"
    }
   },
   "outputs": [
    {
     "data": {
      "text/plain": [
       "0     4.0\n",
       "1     8.0\n",
       "2    15.0\n",
       "3    16.0\n",
       "4    23.0\n",
       "5    42.0\n",
       "dtype: float64"
      ]
     },
     "execution_count": 6,
     "metadata": {},
     "output_type": "execute_result"
    }
   ],
   "source": [
    "lucky_numbers = [4, 8, 15, 16, 23, 42]\n",
    "pd.Series(lucky_numbers, dtype='float')"
   ]
  },
  {
   "cell_type": "code",
   "execution_count": 7,
   "id": "d5e23c78",
   "metadata": {
    "ExecuteTime": {
     "end_time": "2025-03-08T23:41:07.487694Z",
     "start_time": "2025-03-08T23:41:07.483221Z"
    }
   },
   "outputs": [
    {
     "data": {
      "text/plain": [
       "0    94.0\n",
       "1    88.0\n",
       "2     NaN\n",
       "3    91.0\n",
       "dtype: float64"
      ]
     },
     "execution_count": 7,
     "metadata": {},
     "output_type": "execute_result"
    }
   ],
   "source": [
    "temperatures = [94, 88, np.nan, 91]\n",
    "pd.Series(data=temperatures)"
   ]
  },
  {
   "cell_type": "code",
   "execution_count": 8,
   "id": "44abc73b",
   "metadata": {
    "ExecuteTime": {
     "end_time": "2025-03-08T23:41:07.871982Z",
     "start_time": "2025-03-08T23:41:07.866698Z"
    }
   },
   "outputs": [
    {
     "data": {
      "text/plain": [
       "Cereal              125\n",
       "Chocolate Bar       406\n",
       "Ice Cream Sundae    342\n",
       "dtype: int64"
      ]
     },
     "execution_count": 8,
     "metadata": {},
     "output_type": "execute_result"
    }
   ],
   "source": [
    "calorie_info = {\n",
    "    'Cereal': 125,\n",
    "    'Chocolate Bar': 406,\n",
    "    'Ice Cream Sundae': 342,\n",
    "}\n",
    "\n",
    "diet=pd.Series(calorie_info)\n",
    "diet"
   ]
  },
  {
   "cell_type": "code",
   "execution_count": 9,
   "id": "348ac362",
   "metadata": {
    "ExecuteTime": {
     "end_time": "2025-03-08T23:41:08.104481Z",
     "start_time": "2025-03-08T23:41:08.098987Z"
    }
   },
   "outputs": [
    {
     "data": {
      "text/plain": [
       "0     (120, 41, 26)\n",
       "1    (196, 165, 45)\n",
       "dtype: object"
      ]
     },
     "execution_count": 9,
     "metadata": {},
     "output_type": "execute_result"
    }
   ],
   "source": [
    "rgb_colors = [(120, 41, 26), (196, 165, 45)]\n",
    "pd.Series(rgb_colors)"
   ]
  },
  {
   "cell_type": "code",
   "execution_count": 10,
   "id": "a59b276c",
   "metadata": {
    "ExecuteTime": {
     "end_time": "2025-03-08T23:41:09.371229Z",
     "start_time": "2025-03-08T23:41:08.371486Z"
    }
   },
   "outputs": [
    {
     "ename": "TypeError",
     "evalue": "'set' type is unordered",
     "output_type": "error",
     "traceback": [
      "\u001b[1;31m---------------------------------------------------------------------------\u001b[0m",
      "\u001b[1;31mTypeError\u001b[0m                                 Traceback (most recent call last)",
      "Cell \u001b[1;32mIn[10], line 2\u001b[0m\n\u001b[0;32m      1\u001b[0m my_set \u001b[38;5;241m=\u001b[39m {\u001b[38;5;124m'\u001b[39m\u001b[38;5;124mRicky\u001b[39m\u001b[38;5;124m'\u001b[39m, \u001b[38;5;124m'\u001b[39m\u001b[38;5;124mBobby\u001b[39m\u001b[38;5;124m'\u001b[39m}\n\u001b[1;32m----> 2\u001b[0m pd\u001b[38;5;241m.\u001b[39mSeries(my_set)\n",
      "File \u001b[1;32m~\\anaconda3\\Lib\\site-packages\\pandas\\core\\series.py:509\u001b[0m, in \u001b[0;36mSeries.__init__\u001b[1;34m(self, data, index, dtype, name, copy, fastpath)\u001b[0m\n\u001b[0;32m    507\u001b[0m         data \u001b[38;5;241m=\u001b[39m data\u001b[38;5;241m.\u001b[39mcopy()\n\u001b[0;32m    508\u001b[0m \u001b[38;5;28;01melse\u001b[39;00m:\n\u001b[1;32m--> 509\u001b[0m     data \u001b[38;5;241m=\u001b[39m sanitize_array(data, index, dtype, copy)\n\u001b[0;32m    511\u001b[0m     manager \u001b[38;5;241m=\u001b[39m get_option(\u001b[38;5;124m\"\u001b[39m\u001b[38;5;124mmode.data_manager\u001b[39m\u001b[38;5;124m\"\u001b[39m)\n\u001b[0;32m    512\u001b[0m     \u001b[38;5;28;01mif\u001b[39;00m manager \u001b[38;5;241m==\u001b[39m \u001b[38;5;124m\"\u001b[39m\u001b[38;5;124mblock\u001b[39m\u001b[38;5;124m\"\u001b[39m:\n",
      "File \u001b[1;32m~\\anaconda3\\Lib\\site-packages\\pandas\\core\\construction.py:590\u001b[0m, in \u001b[0;36msanitize_array\u001b[1;34m(data, index, dtype, copy, allow_2d)\u001b[0m\n\u001b[0;32m    581\u001b[0m     \u001b[38;5;28;01mreturn\u001b[39;00m sanitize_array(\n\u001b[0;32m    582\u001b[0m         data,\n\u001b[0;32m    583\u001b[0m         index\u001b[38;5;241m=\u001b[39mindex,\n\u001b[1;32m   (...)\u001b[0m\n\u001b[0;32m    586\u001b[0m         allow_2d\u001b[38;5;241m=\u001b[39mallow_2d,\n\u001b[0;32m    587\u001b[0m     )\n\u001b[0;32m    589\u001b[0m \u001b[38;5;28;01melse\u001b[39;00m:\n\u001b[1;32m--> 590\u001b[0m     _sanitize_non_ordered(data)\n\u001b[0;32m    591\u001b[0m     \u001b[38;5;66;03m# materialize e.g. generators, convert e.g. tuples, abc.ValueView\u001b[39;00m\n\u001b[0;32m    592\u001b[0m     data \u001b[38;5;241m=\u001b[39m \u001b[38;5;28mlist\u001b[39m(data)\n",
      "File \u001b[1;32m~\\anaconda3\\Lib\\site-packages\\pandas\\core\\construction.py:641\u001b[0m, in \u001b[0;36m_sanitize_non_ordered\u001b[1;34m(data)\u001b[0m\n\u001b[0;32m    637\u001b[0m \u001b[38;5;250m\u001b[39m\u001b[38;5;124;03m\"\"\"\u001b[39;00m\n\u001b[0;32m    638\u001b[0m \u001b[38;5;124;03mRaise only for unordered sets, e.g., not for dict_keys\u001b[39;00m\n\u001b[0;32m    639\u001b[0m \u001b[38;5;124;03m\"\"\"\u001b[39;00m\n\u001b[0;32m    640\u001b[0m \u001b[38;5;28;01mif\u001b[39;00m \u001b[38;5;28misinstance\u001b[39m(data, (\u001b[38;5;28mset\u001b[39m, \u001b[38;5;28mfrozenset\u001b[39m)):\n\u001b[1;32m--> 641\u001b[0m     \u001b[38;5;28;01mraise\u001b[39;00m \u001b[38;5;167;01mTypeError\u001b[39;00m(\u001b[38;5;124mf\u001b[39m\u001b[38;5;124m\"\u001b[39m\u001b[38;5;124m'\u001b[39m\u001b[38;5;132;01m{\u001b[39;00m\u001b[38;5;28mtype\u001b[39m(data)\u001b[38;5;241m.\u001b[39m\u001b[38;5;18m__name__\u001b[39m\u001b[38;5;132;01m}\u001b[39;00m\u001b[38;5;124m'\u001b[39m\u001b[38;5;124m type is unordered\u001b[39m\u001b[38;5;124m\"\u001b[39m)\n",
      "\u001b[1;31mTypeError\u001b[0m: 'set' type is unordered"
     ]
    }
   ],
   "source": [
    "my_set = {'Ricky', 'Bobby'}\n",
    "pd.Series(my_set)"
   ]
  },
  {
   "cell_type": "code",
   "execution_count": 11,
   "id": "04518da5",
   "metadata": {
    "ExecuteTime": {
     "end_time": "2025-03-08T23:41:13.103834Z",
     "start_time": "2025-03-08T23:41:13.099655Z"
    }
   },
   "outputs": [
    {
     "data": {
      "text/plain": [
       "0    Bobby\n",
       "1    Ricky\n",
       "dtype: object"
      ]
     },
     "execution_count": 11,
     "metadata": {},
     "output_type": "execute_result"
    }
   ],
   "source": [
    "pd.Series(list(my_set))"
   ]
  },
  {
   "cell_type": "code",
   "execution_count": 12,
   "id": "71014ed9",
   "metadata": {
    "ExecuteTime": {
     "end_time": "2025-03-08T23:41:13.399744Z",
     "start_time": "2025-03-08T23:41:13.394896Z"
    }
   },
   "outputs": [
    {
     "data": {
      "text/plain": [
       "array([50, 86,  5, 32, 71,  1, 91, 84, 45, 78])"
      ]
     },
     "execution_count": 12,
     "metadata": {},
     "output_type": "execute_result"
    }
   ],
   "source": [
    "random_data = np.random.randint(1, 101, 10)\n",
    "random_data"
   ]
  },
  {
   "cell_type": "code",
   "execution_count": 13,
   "id": "5d27231c",
   "metadata": {
    "ExecuteTime": {
     "end_time": "2025-03-08T23:41:13.735997Z",
     "start_time": "2025-03-08T23:41:13.730971Z"
    }
   },
   "outputs": [
    {
     "data": {
      "text/plain": [
       "0    50\n",
       "1    86\n",
       "2     5\n",
       "3    32\n",
       "4    71\n",
       "5     1\n",
       "6    91\n",
       "7    84\n",
       "8    45\n",
       "9    78\n",
       "dtype: int32"
      ]
     },
     "execution_count": 13,
     "metadata": {},
     "output_type": "execute_result"
    }
   ],
   "source": [
    "pd.Series(random_data)"
   ]
  },
  {
   "cell_type": "code",
   "execution_count": 15,
   "id": "7667e4fa",
   "metadata": {
    "ExecuteTime": {
     "end_time": "2025-03-08T23:49:46.145268Z",
     "start_time": "2025-03-08T23:49:46.140160Z"
    }
   },
   "outputs": [
    {
     "data": {
      "text/plain": [
       "array([125, 406, 342], dtype=int64)"
      ]
     },
     "execution_count": 15,
     "metadata": {},
     "output_type": "execute_result"
    }
   ],
   "source": [
    "diet.values"
   ]
  },
  {
   "cell_type": "code",
   "execution_count": 16,
   "id": "7afdea76",
   "metadata": {
    "ExecuteTime": {
     "end_time": "2025-03-08T23:50:20.513631Z",
     "start_time": "2025-03-08T23:50:20.508561Z"
    }
   },
   "outputs": [
    {
     "data": {
      "text/plain": [
       "numpy.ndarray"
      ]
     },
     "execution_count": 16,
     "metadata": {},
     "output_type": "execute_result"
    }
   ],
   "source": [
    "type(diet.values)"
   ]
  },
  {
   "cell_type": "code",
   "execution_count": 17,
   "id": "e41682a7",
   "metadata": {
    "ExecuteTime": {
     "end_time": "2025-03-08T23:54:01.337607Z",
     "start_time": "2025-03-08T23:54:01.332540Z"
    }
   },
   "outputs": [
    {
     "data": {
      "text/plain": [
       "Index(['Cereal', 'Chocolate Bar', 'Ice Cream Sundae'], dtype='object')"
      ]
     },
     "execution_count": 17,
     "metadata": {},
     "output_type": "execute_result"
    }
   ],
   "source": [
    "diet.index"
   ]
  },
  {
   "cell_type": "code",
   "execution_count": 18,
   "id": "080a597d",
   "metadata": {
    "ExecuteTime": {
     "end_time": "2025-03-08T23:54:44.592822Z",
     "start_time": "2025-03-08T23:54:44.588633Z"
    }
   },
   "outputs": [
    {
     "data": {
      "text/plain": [
       "pandas.core.indexes.base.Index"
      ]
     },
     "execution_count": 18,
     "metadata": {},
     "output_type": "execute_result"
    }
   ],
   "source": [
    "type(diet.index)"
   ]
  },
  {
   "cell_type": "code",
   "execution_count": 19,
   "id": "ba3ad0e2",
   "metadata": {
    "ExecuteTime": {
     "end_time": "2025-03-08T23:58:21.441729Z",
     "start_time": "2025-03-08T23:58:21.436726Z"
    }
   },
   "outputs": [
    {
     "data": {
      "text/plain": [
       "dtype('int64')"
      ]
     },
     "execution_count": 19,
     "metadata": {},
     "output_type": "execute_result"
    }
   ],
   "source": [
    "diet.dtype"
   ]
  },
  {
   "cell_type": "code",
   "execution_count": 20,
   "id": "9590809b",
   "metadata": {
    "ExecuteTime": {
     "end_time": "2025-03-08T23:58:29.600371Z",
     "start_time": "2025-03-08T23:58:29.596357Z"
    }
   },
   "outputs": [
    {
     "data": {
      "text/plain": [
       "3"
      ]
     },
     "execution_count": 20,
     "metadata": {},
     "output_type": "execute_result"
    }
   ],
   "source": [
    "diet.size"
   ]
  },
  {
   "cell_type": "code",
   "execution_count": 21,
   "id": "7c219c86",
   "metadata": {
    "ExecuteTime": {
     "end_time": "2025-03-09T00:00:58.785799Z",
     "start_time": "2025-03-09T00:00:58.780800Z"
    }
   },
   "outputs": [
    {
     "data": {
      "text/plain": [
       "(3,)"
      ]
     },
     "execution_count": 21,
     "metadata": {},
     "output_type": "execute_result"
    }
   ],
   "source": [
    "diet.shape"
   ]
  },
  {
   "cell_type": "code",
   "execution_count": 22,
   "id": "bc6865e5",
   "metadata": {
    "ExecuteTime": {
     "end_time": "2025-03-09T00:01:14.416182Z",
     "start_time": "2025-03-09T00:01:14.411932Z"
    }
   },
   "outputs": [
    {
     "data": {
      "text/plain": [
       "True"
      ]
     },
     "execution_count": 22,
     "metadata": {},
     "output_type": "execute_result"
    }
   ],
   "source": [
    "diet.is_unique"
   ]
  },
  {
   "cell_type": "code",
   "execution_count": 23,
   "id": "cf1faaac",
   "metadata": {
    "ExecuteTime": {
     "end_time": "2025-03-09T00:01:43.985692Z",
     "start_time": "2025-03-09T00:01:43.980666Z"
    }
   },
   "outputs": [
    {
     "data": {
      "text/plain": [
       "False"
      ]
     },
     "execution_count": 23,
     "metadata": {},
     "output_type": "execute_result"
    }
   ],
   "source": [
    "pd.Series(data=[3,3]).is_unique"
   ]
  },
  {
   "cell_type": "code",
   "execution_count": 25,
   "id": "16e38f42",
   "metadata": {
    "ExecuteTime": {
     "end_time": "2025-03-09T00:05:09.457137Z",
     "start_time": "2025-03-09T00:05:09.452080Z"
    }
   },
   "outputs": [
    {
     "data": {
      "text/plain": [
       "True"
      ]
     },
     "execution_count": 25,
     "metadata": {},
     "output_type": "execute_result"
    }
   ],
   "source": [
    "pd.Series(data=[1,3,6]).is_monotonic_increasing"
   ]
  },
  {
   "cell_type": "code",
   "execution_count": 26,
   "id": "cba6d5cd",
   "metadata": {
    "ExecuteTime": {
     "end_time": "2025-03-09T00:05:56.921499Z",
     "start_time": "2025-03-09T00:05:56.916728Z"
    }
   },
   "outputs": [
    {
     "data": {
      "text/plain": [
       "False"
      ]
     },
     "execution_count": 26,
     "metadata": {},
     "output_type": "execute_result"
    }
   ],
   "source": [
    "pd.Series(data=[1,6,3]).is_monotonic_increasing"
   ]
  },
  {
   "cell_type": "code",
   "execution_count": 27,
   "id": "40299f94",
   "metadata": {
    "ExecuteTime": {
     "end_time": "2025-03-09T00:12:32.908032Z",
     "start_time": "2025-03-09T00:12:32.901646Z"
    }
   },
   "outputs": [
    {
     "data": {
      "text/plain": [
       "0       0\n",
       "1       5\n",
       "2      10\n",
       "3      15\n",
       "4      20\n",
       "     ... \n",
       "95    475\n",
       "96    480\n",
       "97    485\n",
       "98    490\n",
       "99    495\n",
       "Length: 100, dtype: int64"
      ]
     },
     "execution_count": 27,
     "metadata": {},
     "output_type": "execute_result"
    }
   ],
   "source": [
    "values=range(0,500,5)\n",
    "nums=pd.Series(data=values)\n",
    "nums"
   ]
  },
  {
   "cell_type": "code",
   "execution_count": 28,
   "id": "6dfb8ec9",
   "metadata": {
    "ExecuteTime": {
     "end_time": "2025-03-09T00:16:02.707007Z",
     "start_time": "2025-03-09T00:16:02.700938Z"
    }
   },
   "outputs": [
    {
     "data": {
      "text/plain": [
       "0     0\n",
       "1     5\n",
       "2    10\n",
       "dtype: int64"
      ]
     },
     "execution_count": 28,
     "metadata": {},
     "output_type": "execute_result"
    }
   ],
   "source": [
    "nums.head(3)"
   ]
  },
  {
   "cell_type": "code",
   "execution_count": 29,
   "id": "d3e4125e",
   "metadata": {
    "ExecuteTime": {
     "end_time": "2025-03-09T00:19:58.179152Z",
     "start_time": "2025-03-09T00:19:58.173793Z"
    }
   },
   "outputs": [
    {
     "data": {
      "text/plain": [
       "0     0\n",
       "1     5\n",
       "2    10\n",
       "dtype: int64"
      ]
     },
     "execution_count": 29,
     "metadata": {},
     "output_type": "execute_result"
    }
   ],
   "source": [
    "nums.head(n=3)"
   ]
  },
  {
   "cell_type": "code",
   "execution_count": 30,
   "id": "ba363f9d",
   "metadata": {
    "ExecuteTime": {
     "end_time": "2025-03-09T00:22:15.610523Z",
     "start_time": "2025-03-09T00:22:15.605030Z"
    }
   },
   "outputs": [
    {
     "data": {
      "text/plain": [
       "0     0\n",
       "1     5\n",
       "2    10\n",
       "3    15\n",
       "4    20\n",
       "dtype: int64"
      ]
     },
     "execution_count": 30,
     "metadata": {},
     "output_type": "execute_result"
    }
   ],
   "source": [
    "nums.head()"
   ]
  },
  {
   "cell_type": "code",
   "execution_count": 31,
   "id": "9b7e1cae",
   "metadata": {
    "ExecuteTime": {
     "end_time": "2025-03-09T00:22:18.850235Z",
     "start_time": "2025-03-09T00:22:18.845114Z"
    }
   },
   "outputs": [
    {
     "data": {
      "text/plain": [
       "94    470\n",
       "95    475\n",
       "96    480\n",
       "97    485\n",
       "98    490\n",
       "99    495\n",
       "dtype: int64"
      ]
     },
     "execution_count": 31,
     "metadata": {},
     "output_type": "execute_result"
    }
   ],
   "source": [
    "nums.tail(6)"
   ]
  },
  {
   "cell_type": "code",
   "execution_count": 32,
   "id": "2ebc0793",
   "metadata": {
    "ExecuteTime": {
     "end_time": "2025-03-09T00:22:21.570171Z",
     "start_time": "2025-03-09T00:22:21.564605Z"
    }
   },
   "outputs": [
    {
     "data": {
      "text/plain": [
       "95    475\n",
       "96    480\n",
       "97    485\n",
       "98    490\n",
       "99    495\n",
       "dtype: int64"
      ]
     },
     "execution_count": 32,
     "metadata": {},
     "output_type": "execute_result"
    }
   ],
   "source": [
    "nums.tail()"
   ]
  },
  {
   "cell_type": "code",
   "execution_count": 33,
   "id": "a8735205",
   "metadata": {
    "ExecuteTime": {
     "end_time": "2025-03-09T00:23:23.243883Z",
     "start_time": "2025-03-09T00:23:23.236942Z"
    }
   },
   "outputs": [
    {
     "data": {
      "text/plain": [
       "0    1.0\n",
       "1    2.0\n",
       "2    3.0\n",
       "3    NaN\n",
       "4    4.0\n",
       "5    5.0\n",
       "dtype: float64"
      ]
     },
     "execution_count": 33,
     "metadata": {},
     "output_type": "execute_result"
    }
   ],
   "source": [
    "numbers=pd.Series([1,2,3,np.nan,4,5])\n",
    "numbers"
   ]
  },
  {
   "cell_type": "code",
   "execution_count": 34,
   "id": "9b94aba0",
   "metadata": {
    "ExecuteTime": {
     "end_time": "2025-03-09T00:24:04.580395Z",
     "start_time": "2025-03-09T00:24:04.565161Z"
    }
   },
   "outputs": [
    {
     "data": {
      "text/plain": [
       "5"
      ]
     },
     "execution_count": 34,
     "metadata": {},
     "output_type": "execute_result"
    }
   ],
   "source": [
    "numbers.count()"
   ]
  },
  {
   "cell_type": "code",
   "execution_count": 35,
   "id": "c86eaac6",
   "metadata": {
    "ExecuteTime": {
     "end_time": "2025-03-09T00:24:14.058556Z",
     "start_time": "2025-03-09T00:24:14.052997Z"
    }
   },
   "outputs": [
    {
     "data": {
      "text/plain": [
       "15.0"
      ]
     },
     "execution_count": 35,
     "metadata": {},
     "output_type": "execute_result"
    }
   ],
   "source": [
    "numbers.sum()"
   ]
  },
  {
   "cell_type": "code",
   "execution_count": 37,
   "id": "4c022929",
   "metadata": {
    "ExecuteTime": {
     "end_time": "2025-03-09T00:26:17.586350Z",
     "start_time": "2025-03-09T00:26:17.581287Z"
    }
   },
   "outputs": [
    {
     "data": {
      "text/plain": [
       "nan"
      ]
     },
     "execution_count": 37,
     "metadata": {},
     "output_type": "execute_result"
    }
   ],
   "source": [
    "numbers.sum(skipna=False)"
   ]
  },
  {
   "cell_type": "code",
   "execution_count": 38,
   "id": "b8409100",
   "metadata": {
    "ExecuteTime": {
     "end_time": "2025-03-09T00:29:00.754249Z",
     "start_time": "2025-03-09T00:29:00.749670Z"
    }
   },
   "outputs": [
    {
     "data": {
      "text/plain": [
       "15.0"
      ]
     },
     "execution_count": 38,
     "metadata": {},
     "output_type": "execute_result"
    }
   ],
   "source": [
    "numbers.sum(min_count=3)"
   ]
  },
  {
   "cell_type": "code",
   "execution_count": 39,
   "id": "c00dadab",
   "metadata": {
    "ExecuteTime": {
     "end_time": "2025-03-09T00:29:18.082314Z",
     "start_time": "2025-03-09T00:29:18.077683Z"
    }
   },
   "outputs": [
    {
     "data": {
      "text/plain": [
       "nan"
      ]
     },
     "execution_count": 39,
     "metadata": {},
     "output_type": "execute_result"
    }
   ],
   "source": [
    "numbers.sum(min_count=count=6)"
   ]
  },
  {
   "cell_type": "code",
   "execution_count": 40,
   "id": "3530b0c0",
   "metadata": {
    "ExecuteTime": {
     "end_time": "2025-03-09T00:29:58.898196Z",
     "start_time": "2025-03-09T00:29:58.893083Z"
    }
   },
   "outputs": [
    {
     "data": {
      "text/plain": [
       "120.0"
      ]
     },
     "execution_count": 40,
     "metadata": {},
     "output_type": "execute_result"
    }
   ],
   "source": [
    "numbers.product()"
   ]
  },
  {
   "cell_type": "code",
   "execution_count": 41,
   "id": "30de5c15",
   "metadata": {
    "ExecuteTime": {
     "end_time": "2025-03-09T00:30:48.386446Z",
     "start_time": "2025-03-09T00:30:48.381337Z"
    }
   },
   "outputs": [
    {
     "data": {
      "text/plain": [
       "nan"
      ]
     },
     "execution_count": 41,
     "metadata": {},
     "output_type": "execute_result"
    }
   ],
   "source": [
    "numbers.product(skipna=False)"
   ]
  },
  {
   "cell_type": "code",
   "execution_count": 43,
   "id": "65b4e595",
   "metadata": {
    "ExecuteTime": {
     "end_time": "2025-03-09T00:31:02.299225Z",
     "start_time": "2025-03-09T00:31:02.293774Z"
    }
   },
   "outputs": [
    {
     "data": {
      "text/plain": [
       "120.0"
      ]
     },
     "execution_count": 43,
     "metadata": {},
     "output_type": "execute_result"
    }
   ],
   "source": [
    "numbers.product(min_count=3)"
   ]
  },
  {
   "cell_type": "code",
   "execution_count": 44,
   "id": "1df9de15",
   "metadata": {
    "ExecuteTime": {
     "end_time": "2025-03-09T00:37:55.259648Z",
     "start_time": "2025-03-09T00:37:55.253130Z"
    }
   },
   "outputs": [
    {
     "data": {
      "text/plain": [
       "0     1.0\n",
       "1     3.0\n",
       "2     6.0\n",
       "3     NaN\n",
       "4    10.0\n",
       "5    15.0\n",
       "dtype: float64"
      ]
     },
     "execution_count": 44,
     "metadata": {},
     "output_type": "execute_result"
    }
   ],
   "source": [
    "numbers.cumsum()"
   ]
  },
  {
   "cell_type": "code",
   "execution_count": 45,
   "id": "60dfd53f",
   "metadata": {
    "ExecuteTime": {
     "end_time": "2025-03-09T00:40:06.715718Z",
     "start_time": "2025-03-09T00:40:06.709655Z"
    }
   },
   "outputs": [
    {
     "data": {
      "text/plain": [
       "0    1.0\n",
       "1    3.0\n",
       "2    6.0\n",
       "3    NaN\n",
       "4    NaN\n",
       "5    NaN\n",
       "dtype: float64"
      ]
     },
     "execution_count": 45,
     "metadata": {},
     "output_type": "execute_result"
    }
   ],
   "source": [
    "numbers.cumsum(skipna=False)"
   ]
  },
  {
   "cell_type": "code",
   "execution_count": 47,
   "id": "1e3aac05",
   "metadata": {
    "ExecuteTime": {
     "end_time": "2025-03-09T00:46:55.914856Z",
     "start_time": "2025-03-09T00:46:55.909851Z"
    }
   },
   "outputs": [
    {
     "data": {
      "text/plain": [
       "0    1.0\n",
       "1    2.0\n",
       "2    3.0\n",
       "3    NaN\n",
       "4    4.0\n",
       "5    5.0\n",
       "dtype: float64"
      ]
     },
     "execution_count": 47,
     "metadata": {},
     "output_type": "execute_result"
    }
   ],
   "source": [
    "numbers"
   ]
  },
  {
   "cell_type": "code",
   "execution_count": 46,
   "id": "ac0d7047",
   "metadata": {
    "ExecuteTime": {
     "end_time": "2025-03-09T00:46:44.941259Z",
     "start_time": "2025-03-09T00:46:44.933328Z"
    }
   },
   "outputs": [
    {
     "data": {
      "text/plain": [
       "0         NaN\n",
       "1    1.000000\n",
       "2    0.500000\n",
       "3    0.000000\n",
       "4    0.333333\n",
       "5    0.250000\n",
       "dtype: float64"
      ]
     },
     "execution_count": 46,
     "metadata": {},
     "output_type": "execute_result"
    }
   ],
   "source": [
    "numbers.pct_change()"
   ]
  },
  {
   "cell_type": "code",
   "execution_count": 49,
   "id": "64ac3d11",
   "metadata": {
    "ExecuteTime": {
     "end_time": "2025-03-09T00:48:05.516837Z",
     "start_time": "2025-03-09T00:48:05.510160Z"
    }
   },
   "outputs": [
    {
     "data": {
      "text/plain": [
       "0    NaN\n",
       "1    1.0\n",
       "2    0.5\n",
       "dtype: float64"
      ]
     },
     "execution_count": 49,
     "metadata": {},
     "output_type": "execute_result"
    }
   ],
   "source": [
    "numberss = pd.Series([-1,-2,-3])\n",
    "numberss.pct_change()"
   ]
  },
  {
   "cell_type": "code",
   "execution_count": 50,
   "id": "1738d2b7",
   "metadata": {
    "ExecuteTime": {
     "end_time": "2025-03-09T00:55:35.638217Z",
     "start_time": "2025-03-09T00:55:35.630545Z"
    }
   },
   "outputs": [
    {
     "data": {
      "text/plain": [
       "0         NaN\n",
       "1    1.000000\n",
       "2    0.500000\n",
       "3    0.000000\n",
       "4    0.333333\n",
       "5    0.250000\n",
       "dtype: float64"
      ]
     },
     "execution_count": 50,
     "metadata": {},
     "output_type": "execute_result"
    }
   ],
   "source": [
    "numbers.pct_change()\n",
    "numbers.pct_change(fill_method='pad')\n",
    "numbers.pct_change(fill_method='ffill')"
   ]
  },
  {
   "cell_type": "code",
   "execution_count": 51,
   "id": "54686752",
   "metadata": {
    "ExecuteTime": {
     "end_time": "2025-03-09T00:56:25.495695Z",
     "start_time": "2025-03-09T00:56:25.478346Z"
    }
   },
   "outputs": [
    {
     "data": {
      "text/plain": [
       "0         NaN\n",
       "1    1.000000\n",
       "2    0.500000\n",
       "3    0.333333\n",
       "4    0.000000\n",
       "5    0.250000\n",
       "dtype: float64"
      ]
     },
     "execution_count": 51,
     "metadata": {},
     "output_type": "execute_result"
    }
   ],
   "source": [
    "numbers.pct_change(fill_method='bfill')\n",
    "numbers.pct_change(fill_method='backfill')"
   ]
  },
  {
   "cell_type": "code",
   "execution_count": 52,
   "id": "4d4b3d91",
   "metadata": {
    "ExecuteTime": {
     "end_time": "2025-03-09T00:58:24.027676Z",
     "start_time": "2025-03-09T00:58:24.022560Z"
    }
   },
   "outputs": [
    {
     "data": {
      "text/plain": [
       "3.0"
      ]
     },
     "execution_count": 52,
     "metadata": {},
     "output_type": "execute_result"
    }
   ],
   "source": [
    "numbers.mean()"
   ]
  },
  {
   "cell_type": "code",
   "execution_count": 53,
   "id": "00aeebdc",
   "metadata": {
    "ExecuteTime": {
     "end_time": "2025-03-09T00:58:51.123299Z",
     "start_time": "2025-03-09T00:58:51.117613Z"
    }
   },
   "outputs": [
    {
     "data": {
      "text/plain": [
       "3.0"
      ]
     },
     "execution_count": 53,
     "metadata": {},
     "output_type": "execute_result"
    }
   ],
   "source": [
    "numbers.median()"
   ]
  },
  {
   "cell_type": "code",
   "execution_count": 54,
   "id": "003954b0",
   "metadata": {
    "ExecuteTime": {
     "end_time": "2025-03-09T00:59:04.290633Z",
     "start_time": "2025-03-09T00:59:04.286385Z"
    }
   },
   "outputs": [
    {
     "data": {
      "text/plain": [
       "1.5811388300841898"
      ]
     },
     "execution_count": 54,
     "metadata": {},
     "output_type": "execute_result"
    }
   ],
   "source": [
    "numbers.std()"
   ]
  },
  {
   "cell_type": "code",
   "execution_count": 55,
   "id": "7c7af635",
   "metadata": {
    "ExecuteTime": {
     "end_time": "2025-03-09T00:59:59.858772Z",
     "start_time": "2025-03-09T00:59:59.853774Z"
    }
   },
   "outputs": [
    {
     "data": {
      "text/plain": [
       "5.0"
      ]
     },
     "execution_count": 55,
     "metadata": {},
     "output_type": "execute_result"
    }
   ],
   "source": [
    "numbers.max()"
   ]
  },
  {
   "cell_type": "code",
   "execution_count": 56,
   "id": "16580761",
   "metadata": {
    "ExecuteTime": {
     "end_time": "2025-03-09T01:00:07.418520Z",
     "start_time": "2025-03-09T01:00:07.414522Z"
    }
   },
   "outputs": [
    {
     "data": {
      "text/plain": [
       "1.0"
      ]
     },
     "execution_count": 56,
     "metadata": {},
     "output_type": "execute_result"
    }
   ],
   "source": [
    "numbers.min()"
   ]
  },
  {
   "cell_type": "code",
   "execution_count": 57,
   "id": "7bbcc5eb",
   "metadata": {
    "ExecuteTime": {
     "end_time": "2025-03-09T01:05:31.244223Z",
     "start_time": "2025-03-09T01:05:31.238603Z"
    }
   },
   "outputs": [
    {
     "data": {
      "text/plain": [
       "0       koala\n",
       "1    aardvark\n",
       "2       zebra\n",
       "dtype: object"
      ]
     },
     "execution_count": 57,
     "metadata": {},
     "output_type": "execute_result"
    }
   ],
   "source": [
    "animals = pd.Series(['koala', 'aardvark', 'zebra'])\n",
    "animals"
   ]
  },
  {
   "cell_type": "code",
   "execution_count": 58,
   "id": "d03bf4f8",
   "metadata": {
    "ExecuteTime": {
     "end_time": "2025-03-09T01:05:50.138567Z",
     "start_time": "2025-03-09T01:05:50.133606Z"
    }
   },
   "outputs": [
    {
     "data": {
      "text/plain": [
       "'zebra'"
      ]
     },
     "execution_count": 58,
     "metadata": {},
     "output_type": "execute_result"
    }
   ],
   "source": [
    "animals.max()"
   ]
  },
  {
   "cell_type": "code",
   "execution_count": 59,
   "id": "4b61d8aa",
   "metadata": {
    "ExecuteTime": {
     "end_time": "2025-03-09T01:05:58.522512Z",
     "start_time": "2025-03-09T01:05:58.518232Z"
    }
   },
   "outputs": [
    {
     "data": {
      "text/plain": [
       "'aardvark'"
      ]
     },
     "execution_count": 59,
     "metadata": {},
     "output_type": "execute_result"
    }
   ],
   "source": [
    "animals.min()"
   ]
  },
  {
   "cell_type": "code",
   "execution_count": 60,
   "id": "17b92f18",
   "metadata": {
    "ExecuteTime": {
     "end_time": "2025-03-09T01:06:22.602145Z",
     "start_time": "2025-03-09T01:06:22.581985Z"
    }
   },
   "outputs": [
    {
     "data": {
      "text/plain": [
       "count    5.000000\n",
       "mean     3.000000\n",
       "std      1.581139\n",
       "min      1.000000\n",
       "25%      2.000000\n",
       "50%      3.000000\n",
       "75%      4.000000\n",
       "max      5.000000\n",
       "dtype: float64"
      ]
     },
     "execution_count": 60,
     "metadata": {},
     "output_type": "execute_result"
    }
   ],
   "source": [
    "numbers.describe()"
   ]
  },
  {
   "cell_type": "code",
   "execution_count": 61,
   "id": "e132ce84",
   "metadata": {
    "ExecuteTime": {
     "end_time": "2025-03-09T01:09:53.839333Z",
     "start_time": "2025-03-09T01:09:53.822732Z"
    }
   },
   "outputs": [
    {
     "data": {
      "text/plain": [
       "4    4.0\n",
       "0    1.0\n",
       "3    NaN\n",
       "dtype: float64"
      ]
     },
     "execution_count": 61,
     "metadata": {},
     "output_type": "execute_result"
    }
   ],
   "source": [
    "numbers.sample(3)"
   ]
  },
  {
   "cell_type": "code",
   "execution_count": 62,
   "id": "d5fe5519",
   "metadata": {
    "ExecuteTime": {
     "end_time": "2025-03-09T01:11:19.350853Z",
     "start_time": "2025-03-09T01:11:19.334026Z"
    }
   },
   "outputs": [
    {
     "data": {
      "text/plain": [
       "array(['Hemingway', 'Orwell', 'Dostoevsky', 'Fitzgerald'], dtype=object)"
      ]
     },
     "execution_count": 62,
     "metadata": {},
     "output_type": "execute_result"
    }
   ],
   "source": [
    "authors = pd.Series(['Hemingway', 'Orwell', 'Dostoevsky', 'Fitzgerald', 'Orwell'])\n",
    "authors.unique()"
   ]
  },
  {
   "cell_type": "code",
   "execution_count": 63,
   "id": "3154aaac",
   "metadata": {
    "ExecuteTime": {
     "end_time": "2025-03-09T01:11:44.778926Z",
     "start_time": "2025-03-09T01:11:44.773693Z"
    }
   },
   "outputs": [
    {
     "data": {
      "text/plain": [
       "4"
      ]
     },
     "execution_count": 63,
     "metadata": {},
     "output_type": "execute_result"
    }
   ],
   "source": [
    "authors.nunique()"
   ]
  },
  {
   "cell_type": "code",
   "execution_count": 66,
   "id": "07d8a70c",
   "metadata": {
    "ExecuteTime": {
     "end_time": "2025-03-09T01:14:53.300666Z",
     "start_time": "2025-03-09T01:14:53.294695Z"
    }
   },
   "outputs": [
    {
     "data": {
      "text/plain": [
       "a     5.0\n",
       "b     NaN\n",
       "c    15.0\n",
       "dtype: float64"
      ]
     },
     "execution_count": 66,
     "metadata": {},
     "output_type": "execute_result"
    }
   ],
   "source": [
    "s1=pd.Series(data=[5,np.nan,15], index=['a','b','c'])\n",
    "s1"
   ]
  },
  {
   "cell_type": "code",
   "execution_count": 67,
   "id": "c5df9658",
   "metadata": {
    "ExecuteTime": {
     "end_time": "2025-03-09T01:21:22.477769Z",
     "start_time": "2025-03-09T01:21:22.471833Z"
    }
   },
   "outputs": [
    {
     "data": {
      "text/plain": [
       "a     8.0\n",
       "b     NaN\n",
       "c    18.0\n",
       "dtype: float64"
      ]
     },
     "execution_count": 67,
     "metadata": {},
     "output_type": "execute_result"
    }
   ],
   "source": [
    "s1+3"
   ]
  },
  {
   "cell_type": "code",
   "execution_count": 68,
   "id": "6937307b",
   "metadata": {
    "ExecuteTime": {
     "end_time": "2025-03-09T01:22:28.644569Z",
     "start_time": "2025-03-09T01:22:28.638550Z"
    }
   },
   "outputs": [
    {
     "data": {
      "text/plain": [
       "a     8.0\n",
       "b     NaN\n",
       "c    18.0\n",
       "dtype: float64"
      ]
     },
     "execution_count": 68,
     "metadata": {},
     "output_type": "execute_result"
    }
   ],
   "source": [
    "s1.add(3)"
   ]
  },
  {
   "cell_type": "code",
   "execution_count": 69,
   "id": "7aeba7e8",
   "metadata": {
    "ExecuteTime": {
     "end_time": "2025-03-09T01:23:42.124945Z",
     "start_time": "2025-03-09T01:23:42.117886Z"
    }
   },
   "outputs": [
    {
     "data": {
      "text/plain": [
       "a     0.0\n",
       "b     NaN\n",
       "c    10.0\n",
       "dtype: float64"
      ]
     },
     "execution_count": 69,
     "metadata": {},
     "output_type": "execute_result"
    }
   ],
   "source": [
    "s1-5\n",
    "s1.sub(5)\n",
    "s1.subtract(5)"
   ]
  },
  {
   "cell_type": "code",
   "execution_count": 70,
   "id": "39210718",
   "metadata": {
    "ExecuteTime": {
     "end_time": "2025-03-09T01:23:57.460739Z",
     "start_time": "2025-03-09T01:23:57.454802Z"
    }
   },
   "outputs": [
    {
     "data": {
      "text/plain": [
       "a    10.0\n",
       "b     NaN\n",
       "c    30.0\n",
       "dtype: float64"
      ]
     },
     "execution_count": 70,
     "metadata": {},
     "output_type": "execute_result"
    }
   ],
   "source": [
    "s1*2\n",
    "s1.mul(2)\n",
    "s1.multiply(2)"
   ]
  },
  {
   "cell_type": "code",
   "execution_count": 72,
   "id": "726e3282",
   "metadata": {
    "ExecuteTime": {
     "end_time": "2025-03-09T01:24:15.884423Z",
     "start_time": "2025-03-09T01:24:15.878941Z"
    }
   },
   "outputs": [
    {
     "data": {
      "text/plain": [
       "a    2.5\n",
       "b    NaN\n",
       "c    7.5\n",
       "dtype: float64"
      ]
     },
     "execution_count": 72,
     "metadata": {},
     "output_type": "execute_result"
    }
   ],
   "source": [
    "s1/2\n",
    "s1.div(2)\n",
    "s1.divide(2)"
   ]
  },
  {
   "cell_type": "code",
   "execution_count": 73,
   "id": "fda33cbc",
   "metadata": {
    "ExecuteTime": {
     "end_time": "2025-03-09T01:28:14.507403Z",
     "start_time": "2025-03-09T01:28:14.501703Z"
    }
   },
   "outputs": [
    {
     "data": {
      "text/plain": [
       "a    1.0\n",
       "b    NaN\n",
       "c    3.0\n",
       "dtype: float64"
      ]
     },
     "execution_count": 73,
     "metadata": {},
     "output_type": "execute_result"
    }
   ],
   "source": [
    "s1//4\n",
    "s1.floordiv(4)"
   ]
  },
  {
   "cell_type": "code",
   "execution_count": 74,
   "id": "830066cf",
   "metadata": {
    "ExecuteTime": {
     "end_time": "2025-03-09T01:28:32.364456Z",
     "start_time": "2025-03-09T01:28:32.359034Z"
    }
   },
   "outputs": [
    {
     "data": {
      "text/plain": [
       "a    2.0\n",
       "b    NaN\n",
       "c    0.0\n",
       "dtype: float64"
      ]
     },
     "execution_count": 74,
     "metadata": {},
     "output_type": "execute_result"
    }
   ],
   "source": [
    "s1%3\n",
    "s1.mod(3)"
   ]
  },
  {
   "cell_type": "code",
   "execution_count": 75,
   "id": "d2670d9b",
   "metadata": {
    "ExecuteTime": {
     "end_time": "2025-03-09T01:35:15.019146Z",
     "start_time": "2025-03-09T01:35:15.014985Z"
    }
   },
   "outputs": [],
   "source": [
    "s1=pd.Series([1,2,3], index=['a','b','c'])\n",
    "s2=pd.Series([4,5,6], index=['a','b','c'])"
   ]
  },
  {
   "cell_type": "code",
   "execution_count": 76,
   "id": "2005e2fa",
   "metadata": {
    "ExecuteTime": {
     "end_time": "2025-03-09T01:35:51.284746Z",
     "start_time": "2025-03-09T01:35:51.278745Z"
    }
   },
   "outputs": [
    {
     "data": {
      "text/plain": [
       "a    5\n",
       "b    7\n",
       "c    9\n",
       "dtype: int64"
      ]
     },
     "execution_count": 76,
     "metadata": {},
     "output_type": "execute_result"
    }
   ],
   "source": [
    "s1+s2"
   ]
  },
  {
   "cell_type": "code",
   "execution_count": 77,
   "id": "11a3e0d9",
   "metadata": {
    "ExecuteTime": {
     "end_time": "2025-03-09T01:37:16.842863Z",
     "start_time": "2025-03-09T01:37:16.838983Z"
    }
   },
   "outputs": [],
   "source": [
    "s1=pd.Series([3,6,np.nan,12])\n",
    "s2=pd.Series([2,6,np.nan,12])"
   ]
  },
  {
   "cell_type": "code",
   "execution_count": 78,
   "id": "966f45e9",
   "metadata": {
    "ExecuteTime": {
     "end_time": "2025-03-09T01:38:34.205526Z",
     "start_time": "2025-03-09T01:38:34.199585Z"
    }
   },
   "outputs": [
    {
     "data": {
      "text/plain": [
       "0    False\n",
       "1     True\n",
       "2    False\n",
       "3     True\n",
       "dtype: bool"
      ]
     },
     "execution_count": 78,
     "metadata": {},
     "output_type": "execute_result"
    }
   ],
   "source": [
    "s1==s2\n",
    "s1.eq(s2)"
   ]
  },
  {
   "cell_type": "code",
   "execution_count": 79,
   "id": "27cbc88f",
   "metadata": {
    "ExecuteTime": {
     "end_time": "2025-03-09T01:39:00.652625Z",
     "start_time": "2025-03-09T01:39:00.647382Z"
    }
   },
   "outputs": [
    {
     "data": {
      "text/plain": [
       "0     True\n",
       "1    False\n",
       "2     True\n",
       "3    False\n",
       "dtype: bool"
      ]
     },
     "execution_count": 79,
     "metadata": {},
     "output_type": "execute_result"
    }
   ],
   "source": [
    "s1 != s2\n",
    "s1.ne(s2)"
   ]
  },
  {
   "cell_type": "code",
   "execution_count": 80,
   "id": "bc43ba43",
   "metadata": {
    "ExecuteTime": {
     "end_time": "2025-03-09T01:40:46.747738Z",
     "start_time": "2025-03-09T01:40:46.743711Z"
    }
   },
   "outputs": [],
   "source": [
    "s1=pd.Series(data=[5,10,15], index=['a','b','c'])\n",
    "s2=pd.Series(data=[4,8,12,14], index=['b','c','d','e'])"
   ]
  },
  {
   "cell_type": "code",
   "execution_count": 81,
   "id": "ea648428",
   "metadata": {
    "ExecuteTime": {
     "end_time": "2025-03-09T01:41:54.216640Z",
     "start_time": "2025-03-09T01:41:54.199201Z"
    }
   },
   "outputs": [
    {
     "data": {
      "text/plain": [
       "a     NaN\n",
       "b    14.0\n",
       "c    23.0\n",
       "d     NaN\n",
       "e     NaN\n",
       "dtype: float64"
      ]
     },
     "execution_count": 81,
     "metadata": {},
     "output_type": "execute_result"
    }
   ],
   "source": [
    "s1+s2"
   ]
  },
  {
   "cell_type": "code",
   "execution_count": 82,
   "id": "d1099cc6",
   "metadata": {
    "ExecuteTime": {
     "end_time": "2025-03-09T01:44:09.124086Z",
     "start_time": "2025-03-09T01:44:09.119776Z"
    }
   },
   "outputs": [],
   "source": [
    "cities=pd.Series(data=['san francisco','los angeles','las vegas',np.nan])"
   ]
  },
  {
   "cell_type": "code",
   "execution_count": 83,
   "id": "688f5fdd",
   "metadata": {
    "ExecuteTime": {
     "end_time": "2025-03-09T01:44:15.212775Z",
     "start_time": "2025-03-09T01:44:15.207777Z"
    }
   },
   "outputs": [
    {
     "data": {
      "text/plain": [
       "4"
      ]
     },
     "execution_count": 83,
     "metadata": {},
     "output_type": "execute_result"
    }
   ],
   "source": [
    "len(cities)"
   ]
  },
  {
   "cell_type": "code",
   "execution_count": 84,
   "id": "de5c4171",
   "metadata": {
    "ExecuteTime": {
     "end_time": "2025-03-09T01:46:26.051962Z",
     "start_time": "2025-03-09T01:46:26.046901Z"
    }
   },
   "outputs": [
    {
     "data": {
      "text/plain": [
       "pandas.core.series.Series"
      ]
     },
     "execution_count": 84,
     "metadata": {},
     "output_type": "execute_result"
    }
   ],
   "source": [
    "type(cities)"
   ]
  },
  {
   "cell_type": "code",
   "execution_count": 85,
   "id": "449826e9",
   "metadata": {
    "ExecuteTime": {
     "end_time": "2025-03-09T01:46:46.112580Z",
     "start_time": "2025-03-09T01:46:46.103315Z"
    }
   },
   "outputs": [
    {
     "data": {
      "text/plain": [
       "['T',\n",
       " '_AXIS_LEN',\n",
       " '_AXIS_ORDERS',\n",
       " '_AXIS_TO_AXIS_NUMBER',\n",
       " '_HANDLED_TYPES',\n",
       " '__abs__',\n",
       " '__add__',\n",
       " '__and__',\n",
       " '__annotations__',\n",
       " '__array__',\n",
       " '__array_priority__',\n",
       " '__array_ufunc__',\n",
       " '__bool__',\n",
       " '__class__',\n",
       " '__contains__',\n",
       " '__copy__',\n",
       " '__deepcopy__',\n",
       " '__delattr__',\n",
       " '__delitem__',\n",
       " '__dict__',\n",
       " '__dir__',\n",
       " '__divmod__',\n",
       " '__doc__',\n",
       " '__eq__',\n",
       " '__finalize__',\n",
       " '__float__',\n",
       " '__floordiv__',\n",
       " '__format__',\n",
       " '__ge__',\n",
       " '__getattr__',\n",
       " '__getattribute__',\n",
       " '__getitem__',\n",
       " '__getstate__',\n",
       " '__gt__',\n",
       " '__hash__',\n",
       " '__iadd__',\n",
       " '__iand__',\n",
       " '__ifloordiv__',\n",
       " '__imod__',\n",
       " '__imul__',\n",
       " '__init__',\n",
       " '__init_subclass__',\n",
       " '__int__',\n",
       " '__invert__',\n",
       " '__ior__',\n",
       " '__ipow__',\n",
       " '__isub__',\n",
       " '__iter__',\n",
       " '__itruediv__',\n",
       " '__ixor__',\n",
       " '__le__',\n",
       " '__len__',\n",
       " '__lt__',\n",
       " '__matmul__',\n",
       " '__mod__',\n",
       " '__module__',\n",
       " '__mul__',\n",
       " '__ne__',\n",
       " '__neg__',\n",
       " '__new__',\n",
       " '__nonzero__',\n",
       " '__or__',\n",
       " '__pos__',\n",
       " '__pow__',\n",
       " '__radd__',\n",
       " '__rand__',\n",
       " '__rdivmod__',\n",
       " '__reduce__',\n",
       " '__reduce_ex__',\n",
       " '__repr__',\n",
       " '__rfloordiv__',\n",
       " '__rmatmul__',\n",
       " '__rmod__',\n",
       " '__rmul__',\n",
       " '__ror__',\n",
       " '__round__',\n",
       " '__rpow__',\n",
       " '__rsub__',\n",
       " '__rtruediv__',\n",
       " '__rxor__',\n",
       " '__setattr__',\n",
       " '__setitem__',\n",
       " '__setstate__',\n",
       " '__sizeof__',\n",
       " '__str__',\n",
       " '__sub__',\n",
       " '__subclasshook__',\n",
       " '__truediv__',\n",
       " '__weakref__',\n",
       " '__xor__',\n",
       " '_accessors',\n",
       " '_accum_func',\n",
       " '_add_numeric_operations',\n",
       " '_agg_examples_doc',\n",
       " '_agg_see_also_doc',\n",
       " '_align_frame',\n",
       " '_align_series',\n",
       " '_append',\n",
       " '_arith_method',\n",
       " '_as_manager',\n",
       " '_attrs',\n",
       " '_binop',\n",
       " '_can_hold_na',\n",
       " '_check_inplace_and_allows_duplicate_labels',\n",
       " '_check_inplace_setting',\n",
       " '_check_is_chained_assignment_possible',\n",
       " '_check_label_or_level_ambiguity',\n",
       " '_check_setitem_copy',\n",
       " '_clear_item_cache',\n",
       " '_clip_with_one_bound',\n",
       " '_clip_with_scalar',\n",
       " '_cmp_method',\n",
       " '_consolidate',\n",
       " '_consolidate_inplace',\n",
       " '_construct_axes_dict',\n",
       " '_construct_result',\n",
       " '_constructor',\n",
       " '_constructor_expanddim',\n",
       " '_convert_dtypes',\n",
       " '_data',\n",
       " '_dir_additions',\n",
       " '_dir_deletions',\n",
       " '_drop_axis',\n",
       " '_drop_labels_or_levels',\n",
       " '_duplicated',\n",
       " '_find_valid_index',\n",
       " '_flags',\n",
       " '_get_axis',\n",
       " '_get_axis_name',\n",
       " '_get_axis_number',\n",
       " '_get_axis_resolvers',\n",
       " '_get_block_manager_axis',\n",
       " '_get_bool_data',\n",
       " '_get_cacher',\n",
       " '_get_cleaned_column_resolvers',\n",
       " '_get_index_resolvers',\n",
       " '_get_label_or_level_values',\n",
       " '_get_numeric_data',\n",
       " '_get_value',\n",
       " '_get_values',\n",
       " '_get_values_tuple',\n",
       " '_get_with',\n",
       " '_gotitem',\n",
       " '_hidden_attrs',\n",
       " '_indexed_same',\n",
       " '_info_axis',\n",
       " '_info_axis_name',\n",
       " '_info_axis_number',\n",
       " '_init_dict',\n",
       " '_init_mgr',\n",
       " '_inplace_method',\n",
       " '_internal_names',\n",
       " '_internal_names_set',\n",
       " '_is_cached',\n",
       " '_is_copy',\n",
       " '_is_label_or_level_reference',\n",
       " '_is_label_reference',\n",
       " '_is_level_reference',\n",
       " '_is_mixed_type',\n",
       " '_is_view',\n",
       " '_item_cache',\n",
       " '_ixs',\n",
       " '_logical_func',\n",
       " '_logical_method',\n",
       " '_map_values',\n",
       " '_maybe_update_cacher',\n",
       " '_memory_usage',\n",
       " '_metadata',\n",
       " '_mgr',\n",
       " '_min_count_stat_function',\n",
       " '_name',\n",
       " '_needs_reindex_multi',\n",
       " '_protect_consolidate',\n",
       " '_reduce',\n",
       " '_references',\n",
       " '_reindex_axes',\n",
       " '_reindex_indexer',\n",
       " '_reindex_multi',\n",
       " '_reindex_with_indexers',\n",
       " '_rename',\n",
       " '_replace_single',\n",
       " '_repr_data_resource_',\n",
       " '_repr_latex_',\n",
       " '_reset_cache',\n",
       " '_reset_cacher',\n",
       " '_set_as_cached',\n",
       " '_set_axis',\n",
       " '_set_axis_name',\n",
       " '_set_axis_nocheck',\n",
       " '_set_is_copy',\n",
       " '_set_labels',\n",
       " '_set_name',\n",
       " '_set_value',\n",
       " '_set_values',\n",
       " '_set_with',\n",
       " '_set_with_engine',\n",
       " '_slice',\n",
       " '_stat_axis',\n",
       " '_stat_axis_name',\n",
       " '_stat_axis_number',\n",
       " '_stat_function',\n",
       " '_stat_function_ddof',\n",
       " '_take',\n",
       " '_take_with_is_copy',\n",
       " '_to_latex_via_styler',\n",
       " '_typ',\n",
       " '_update_inplace',\n",
       " '_validate_dtype',\n",
       " '_values',\n",
       " '_where',\n",
       " 'abs',\n",
       " 'add',\n",
       " 'add_prefix',\n",
       " 'add_suffix',\n",
       " 'agg',\n",
       " 'aggregate',\n",
       " 'align',\n",
       " 'all',\n",
       " 'any',\n",
       " 'apply',\n",
       " 'argmax',\n",
       " 'argmin',\n",
       " 'argsort',\n",
       " 'array',\n",
       " 'asfreq',\n",
       " 'asof',\n",
       " 'astype',\n",
       " 'at',\n",
       " 'at_time',\n",
       " 'attrs',\n",
       " 'autocorr',\n",
       " 'axes',\n",
       " 'backfill',\n",
       " 'between',\n",
       " 'between_time',\n",
       " 'bfill',\n",
       " 'bool',\n",
       " 'clip',\n",
       " 'combine',\n",
       " 'combine_first',\n",
       " 'compare',\n",
       " 'convert_dtypes',\n",
       " 'copy',\n",
       " 'corr',\n",
       " 'count',\n",
       " 'cov',\n",
       " 'cummax',\n",
       " 'cummin',\n",
       " 'cumprod',\n",
       " 'cumsum',\n",
       " 'describe',\n",
       " 'diff',\n",
       " 'div',\n",
       " 'divide',\n",
       " 'divmod',\n",
       " 'dot',\n",
       " 'drop',\n",
       " 'drop_duplicates',\n",
       " 'droplevel',\n",
       " 'dropna',\n",
       " 'dtype',\n",
       " 'dtypes',\n",
       " 'duplicated',\n",
       " 'empty',\n",
       " 'eq',\n",
       " 'equals',\n",
       " 'ewm',\n",
       " 'expanding',\n",
       " 'explode',\n",
       " 'factorize',\n",
       " 'ffill',\n",
       " 'fillna',\n",
       " 'filter',\n",
       " 'first',\n",
       " 'first_valid_index',\n",
       " 'flags',\n",
       " 'floordiv',\n",
       " 'ge',\n",
       " 'get',\n",
       " 'groupby',\n",
       " 'gt',\n",
       " 'hasnans',\n",
       " 'head',\n",
       " 'hist',\n",
       " 'iat',\n",
       " 'idxmax',\n",
       " 'idxmin',\n",
       " 'iloc',\n",
       " 'index',\n",
       " 'infer_objects',\n",
       " 'info',\n",
       " 'interpolate',\n",
       " 'is_monotonic_decreasing',\n",
       " 'is_monotonic_increasing',\n",
       " 'is_unique',\n",
       " 'isin',\n",
       " 'isna',\n",
       " 'isnull',\n",
       " 'item',\n",
       " 'items',\n",
       " 'keys',\n",
       " 'kurt',\n",
       " 'kurtosis',\n",
       " 'last',\n",
       " 'last_valid_index',\n",
       " 'le',\n",
       " 'loc',\n",
       " 'lt',\n",
       " 'map',\n",
       " 'mask',\n",
       " 'max',\n",
       " 'mean',\n",
       " 'median',\n",
       " 'memory_usage',\n",
       " 'min',\n",
       " 'mod',\n",
       " 'mode',\n",
       " 'mul',\n",
       " 'multiply',\n",
       " 'name',\n",
       " 'nbytes',\n",
       " 'ndim',\n",
       " 'ne',\n",
       " 'nlargest',\n",
       " 'notna',\n",
       " 'notnull',\n",
       " 'nsmallest',\n",
       " 'nunique',\n",
       " 'pad',\n",
       " 'pct_change',\n",
       " 'pipe',\n",
       " 'plot',\n",
       " 'pop',\n",
       " 'pow',\n",
       " 'prod',\n",
       " 'product',\n",
       " 'quantile',\n",
       " 'radd',\n",
       " 'rank',\n",
       " 'ravel',\n",
       " 'rdiv',\n",
       " 'rdivmod',\n",
       " 'reindex',\n",
       " 'reindex_like',\n",
       " 'rename',\n",
       " 'rename_axis',\n",
       " 'reorder_levels',\n",
       " 'repeat',\n",
       " 'replace',\n",
       " 'resample',\n",
       " 'reset_index',\n",
       " 'rfloordiv',\n",
       " 'rmod',\n",
       " 'rmul',\n",
       " 'rolling',\n",
       " 'round',\n",
       " 'rpow',\n",
       " 'rsub',\n",
       " 'rtruediv',\n",
       " 'sample',\n",
       " 'searchsorted',\n",
       " 'sem',\n",
       " 'set_axis',\n",
       " 'set_flags',\n",
       " 'shape',\n",
       " 'shift',\n",
       " 'size',\n",
       " 'skew',\n",
       " 'sort_index',\n",
       " 'sort_values',\n",
       " 'squeeze',\n",
       " 'std',\n",
       " 'str',\n",
       " 'sub',\n",
       " 'subtract',\n",
       " 'sum',\n",
       " 'swapaxes',\n",
       " 'swaplevel',\n",
       " 'tail',\n",
       " 'take',\n",
       " 'to_clipboard',\n",
       " 'to_csv',\n",
       " 'to_dict',\n",
       " 'to_excel',\n",
       " 'to_frame',\n",
       " 'to_hdf',\n",
       " 'to_json',\n",
       " 'to_latex',\n",
       " 'to_list',\n",
       " 'to_markdown',\n",
       " 'to_numpy',\n",
       " 'to_period',\n",
       " 'to_pickle',\n",
       " 'to_sql',\n",
       " 'to_string',\n",
       " 'to_timestamp',\n",
       " 'to_xarray',\n",
       " 'transform',\n",
       " 'transpose',\n",
       " 'truediv',\n",
       " 'truncate',\n",
       " 'tz_convert',\n",
       " 'tz_localize',\n",
       " 'unique',\n",
       " 'unstack',\n",
       " 'update',\n",
       " 'value_counts',\n",
       " 'values',\n",
       " 'var',\n",
       " 'view',\n",
       " 'where',\n",
       " 'xs']"
      ]
     },
     "execution_count": 85,
     "metadata": {},
     "output_type": "execute_result"
    }
   ],
   "source": [
    "dir(cities)"
   ]
  },
  {
   "cell_type": "code",
   "execution_count": 86,
   "id": "b514936f",
   "metadata": {
    "ExecuteTime": {
     "end_time": "2025-03-09T01:49:07.251792Z",
     "start_time": "2025-03-09T01:49:07.247428Z"
    }
   },
   "outputs": [
    {
     "data": {
      "text/plain": [
       "['san francisco', 'los angeles', 'las vegas', nan]"
      ]
     },
     "execution_count": 86,
     "metadata": {},
     "output_type": "execute_result"
    }
   ],
   "source": [
    "list(cities)"
   ]
  },
  {
   "cell_type": "code",
   "execution_count": 87,
   "id": "49e644ae",
   "metadata": {
    "ExecuteTime": {
     "end_time": "2025-03-09T01:49:12.427095Z",
     "start_time": "2025-03-09T01:49:12.422006Z"
    }
   },
   "outputs": [
    {
     "data": {
      "text/plain": [
       "0    san francisco\n",
       "1      los angeles\n",
       "2        las vegas\n",
       "3              NaN\n",
       "dtype: object"
      ]
     },
     "execution_count": 87,
     "metadata": {},
     "output_type": "execute_result"
    }
   ],
   "source": [
    "cities"
   ]
  },
  {
   "cell_type": "code",
   "execution_count": 88,
   "id": "b5c3311e",
   "metadata": {
    "ExecuteTime": {
     "end_time": "2025-03-09T01:49:29.428781Z",
     "start_time": "2025-03-09T01:49:29.424090Z"
    }
   },
   "outputs": [
    {
     "data": {
      "text/plain": [
       "{0: 'san francisco', 1: 'los angeles', 2: 'las vegas', 3: nan}"
      ]
     },
     "execution_count": 88,
     "metadata": {},
     "output_type": "execute_result"
    }
   ],
   "source": [
    "dict(cities)"
   ]
  },
  {
   "cell_type": "code",
   "execution_count": 89,
   "id": "2697ba30",
   "metadata": {
    "ExecuteTime": {
     "end_time": "2025-03-09T01:52:48.364401Z",
     "start_time": "2025-03-09T01:52:48.360421Z"
    }
   },
   "outputs": [
    {
     "data": {
      "text/plain": [
       "False"
      ]
     },
     "execution_count": 89,
     "metadata": {},
     "output_type": "execute_result"
    }
   ],
   "source": [
    "'las vegas' in cities"
   ]
  },
  {
   "cell_type": "code",
   "execution_count": 90,
   "id": "495b45b6",
   "metadata": {
    "ExecuteTime": {
     "end_time": "2025-03-09T01:52:59.091746Z",
     "start_time": "2025-03-09T01:52:59.087809Z"
    }
   },
   "outputs": [
    {
     "data": {
      "text/plain": [
       "True"
      ]
     },
     "execution_count": 90,
     "metadata": {},
     "output_type": "execute_result"
    }
   ],
   "source": [
    "2 in cities"
   ]
  },
  {
   "cell_type": "code",
   "execution_count": 91,
   "id": "789129bb",
   "metadata": {
    "ExecuteTime": {
     "end_time": "2025-03-09T01:53:26.063067Z",
     "start_time": "2025-03-09T01:53:26.047763Z"
    }
   },
   "outputs": [
    {
     "data": {
      "text/plain": [
       "True"
      ]
     },
     "execution_count": 91,
     "metadata": {},
     "output_type": "execute_result"
    }
   ],
   "source": [
    "'las vegas' in cities.values"
   ]
  },
  {
   "cell_type": "code",
   "execution_count": 92,
   "id": "3dfbd2af",
   "metadata": {
    "ExecuteTime": {
     "end_time": "2025-03-09T01:53:38.667881Z",
     "start_time": "2025-03-09T01:53:38.663469Z"
    }
   },
   "outputs": [
    {
     "data": {
      "text/plain": [
       "True"
      ]
     },
     "execution_count": 92,
     "metadata": {},
     "output_type": "execute_result"
    }
   ],
   "source": [
    "100 not in cities"
   ]
  },
  {
   "cell_type": "code",
   "execution_count": 93,
   "id": "b7a9a881",
   "metadata": {
    "ExecuteTime": {
     "end_time": "2025-03-09T01:53:46.188456Z",
     "start_time": "2025-03-09T01:53:46.183466Z"
    }
   },
   "outputs": [
    {
     "data": {
      "text/plain": [
       "True"
      ]
     },
     "execution_count": 93,
     "metadata": {},
     "output_type": "execute_result"
    }
   ],
   "source": [
    "'paris' not in cities.values"
   ]
  },
  {
   "cell_type": "code",
   "execution_count": 94,
   "id": "12c96561",
   "metadata": {
    "ExecuteTime": {
     "end_time": "2025-03-09T01:56:21.035761Z",
     "start_time": "2025-03-09T01:56:21.032411Z"
    }
   },
   "outputs": [],
   "source": [
    "superheroes = [\n",
    "    'batman',\n",
    "    'superman',\n",
    "    'spiderman',\n",
    "    'iron man',\n",
    "    'captain america',\n",
    "    'wonder woman'\n",
    "]\n",
    "\n",
    "strength_levels=(100, 120, 90, 95, 110, 120)"
   ]
  },
  {
   "cell_type": "code",
   "execution_count": 95,
   "id": "33b40ef9",
   "metadata": {
    "ExecuteTime": {
     "end_time": "2025-03-09T01:56:41.427624Z",
     "start_time": "2025-03-09T01:56:41.424166Z"
    }
   },
   "outputs": [],
   "source": [
    "s1 = pd.Series(superheroes)"
   ]
  },
  {
   "cell_type": "code",
   "execution_count": 96,
   "id": "d4d2232f",
   "metadata": {
    "ExecuteTime": {
     "end_time": "2025-03-09T01:57:04.626391Z",
     "start_time": "2025-03-09T01:57:04.623265Z"
    }
   },
   "outputs": [],
   "source": [
    "s2 = pd.Series(strength_levels)"
   ]
  },
  {
   "cell_type": "code",
   "execution_count": 97,
   "id": "2808bf3a",
   "metadata": {
    "ExecuteTime": {
     "end_time": "2025-03-09T01:57:43.510772Z",
     "start_time": "2025-03-09T01:57:43.504383Z"
    }
   },
   "outputs": [
    {
     "data": {
      "text/plain": [
       "batman             100\n",
       "superman           120\n",
       "spiderman           90\n",
       "iron man            95\n",
       "captain america    110\n",
       "wonder woman       120\n",
       "dtype: int64"
      ]
     },
     "execution_count": 97,
     "metadata": {},
     "output_type": "execute_result"
    }
   ],
   "source": [
    "heroes=pd.Series(data=strength_levels, index=superheroes)\n",
    "heroes"
   ]
  },
  {
   "cell_type": "code",
   "execution_count": 98,
   "id": "92d02017",
   "metadata": {
    "ExecuteTime": {
     "end_time": "2025-03-09T01:57:54.717714Z",
     "start_time": "2025-03-09T01:57:54.712652Z"
    }
   },
   "outputs": [
    {
     "data": {
      "text/plain": [
       "batman      100\n",
       "superman    120\n",
       "dtype: int64"
      ]
     },
     "execution_count": 98,
     "metadata": {},
     "output_type": "execute_result"
    }
   ],
   "source": [
    "heroes.head(2)"
   ]
  },
  {
   "cell_type": "code",
   "execution_count": 99,
   "id": "fd938a91",
   "metadata": {
    "ExecuteTime": {
     "end_time": "2025-03-09T01:58:01.277021Z",
     "start_time": "2025-03-09T01:58:01.270987Z"
    }
   },
   "outputs": [
    {
     "data": {
      "text/plain": [
       "spiderman           90\n",
       "iron man            95\n",
       "captain america    110\n",
       "wonder woman       120\n",
       "dtype: int64"
      ]
     },
     "execution_count": 99,
     "metadata": {},
     "output_type": "execute_result"
    }
   ],
   "source": [
    "heroes.tail(4)"
   ]
  },
  {
   "cell_type": "code",
   "execution_count": 102,
   "id": "1ee6a82c",
   "metadata": {
    "ExecuteTime": {
     "end_time": "2025-03-09T01:58:33.252235Z",
     "start_time": "2025-03-09T01:58:33.247379Z"
    }
   },
   "outputs": [
    {
     "data": {
      "text/plain": [
       "5"
      ]
     },
     "execution_count": 102,
     "metadata": {},
     "output_type": "execute_result"
    }
   ],
   "source": [
    "heroes.nunique()"
   ]
  },
  {
   "cell_type": "code",
   "execution_count": 103,
   "id": "7e45544b",
   "metadata": {
    "ExecuteTime": {
     "end_time": "2025-03-09T01:58:47.436781Z",
     "start_time": "2025-03-09T01:58:47.431977Z"
    }
   },
   "outputs": [
    {
     "data": {
      "text/plain": [
       "105.83333333333333"
      ]
     },
     "execution_count": 103,
     "metadata": {},
     "output_type": "execute_result"
    }
   ],
   "source": [
    "heroes.mean()"
   ]
  },
  {
   "cell_type": "code",
   "execution_count": 104,
   "id": "b1ea74d5",
   "metadata": {
    "ExecuteTime": {
     "end_time": "2025-03-09T01:58:58.588278Z",
     "start_time": "2025-03-09T01:58:58.583438Z"
    }
   },
   "outputs": [
    {
     "data": {
      "text/plain": [
       "120"
      ]
     },
     "execution_count": 104,
     "metadata": {},
     "output_type": "execute_result"
    }
   ],
   "source": [
    "heroes.max()"
   ]
  },
  {
   "cell_type": "code",
   "execution_count": 105,
   "id": "11c91b97",
   "metadata": {
    "ExecuteTime": {
     "end_time": "2025-03-09T01:59:02.468324Z",
     "start_time": "2025-03-09T01:59:02.463388Z"
    }
   },
   "outputs": [
    {
     "data": {
      "text/plain": [
       "90"
      ]
     },
     "execution_count": 105,
     "metadata": {},
     "output_type": "execute_result"
    }
   ],
   "source": [
    "heroes.min()"
   ]
  },
  {
   "cell_type": "code",
   "execution_count": 106,
   "id": "54af6f63",
   "metadata": {
    "ExecuteTime": {
     "end_time": "2025-03-09T01:59:21.396494Z",
     "start_time": "2025-03-09T01:59:21.391911Z"
    }
   },
   "outputs": [
    {
     "data": {
      "text/plain": [
       "batman             200\n",
       "superman           240\n",
       "spiderman          180\n",
       "iron man           190\n",
       "captain america    220\n",
       "wonder woman       240\n",
       "dtype: int64"
      ]
     },
     "execution_count": 106,
     "metadata": {},
     "output_type": "execute_result"
    }
   ],
   "source": [
    "heroes*2"
   ]
  },
  {
   "cell_type": "code",
   "execution_count": 107,
   "id": "c3cea72e",
   "metadata": {
    "ExecuteTime": {
     "end_time": "2025-03-09T01:59:28.908984Z",
     "start_time": "2025-03-09T01:59:28.904414Z"
    }
   },
   "outputs": [
    {
     "data": {
      "text/plain": [
       "{'batman': 100,\n",
       " 'superman': 120,\n",
       " 'spiderman': 90,\n",
       " 'iron man': 95,\n",
       " 'captain america': 110,\n",
       " 'wonder woman': 120}"
      ]
     },
     "execution_count": 107,
     "metadata": {},
     "output_type": "execute_result"
    }
   ],
   "source": [
    "dict(heroes)"
   ]
  },
  {
   "cell_type": "code",
   "execution_count": null,
   "id": "ee330cb5",
   "metadata": {},
   "outputs": [],
   "source": []
  }
 ],
 "metadata": {
  "kernelspec": {
   "display_name": "Python 3 (ipykernel)",
   "language": "python",
   "name": "python3"
  },
  "language_info": {
   "codemirror_mode": {
    "name": "ipython",
    "version": 3
   },
   "file_extension": ".py",
   "mimetype": "text/x-python",
   "name": "python",
   "nbconvert_exporter": "python",
   "pygments_lexer": "ipython3",
   "version": "3.11.5"
  },
  "toc": {
   "base_numbering": 1,
   "nav_menu": {},
   "number_sections": true,
   "sideBar": true,
   "skip_h1_title": false,
   "title_cell": "Table of Contents",
   "title_sidebar": "Contents",
   "toc_cell": false,
   "toc_position": {},
   "toc_section_display": true,
   "toc_window_display": false
  }
 },
 "nbformat": 4,
 "nbformat_minor": 5
}
