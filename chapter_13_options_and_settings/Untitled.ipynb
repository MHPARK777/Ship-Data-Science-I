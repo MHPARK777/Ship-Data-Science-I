{
 "cells": [
  {
   "cell_type": "code",
   "execution_count": 1,
   "id": "026a7830",
   "metadata": {
    "ExecuteTime": {
     "end_time": "2025-03-17T23:24:41.745828Z",
     "start_time": "2025-03-17T23:24:41.106616Z"
    }
   },
   "outputs": [],
   "source": [
    "import pandas as pd"
   ]
  },
  {
   "cell_type": "code",
   "execution_count": 2,
   "id": "daf9324b",
   "metadata": {
    "ExecuteTime": {
     "end_time": "2025-03-17T23:25:45.044866Z",
     "start_time": "2025-03-17T23:25:44.995024Z"
    }
   },
   "outputs": [
    {
     "data": {
      "text/html": [
       "<div>\n",
       "<style scoped>\n",
       "    .dataframe tbody tr th:only-of-type {\n",
       "        vertical-align: middle;\n",
       "    }\n",
       "\n",
       "    .dataframe tbody tr th {\n",
       "        vertical-align: top;\n",
       "    }\n",
       "\n",
       "    .dataframe thead th {\n",
       "        text-align: right;\n",
       "    }\n",
       "</style>\n",
       "<table border=\"1\" class=\"dataframe\">\n",
       "  <thead>\n",
       "    <tr style=\"text-align: right;\">\n",
       "      <th></th>\n",
       "      <th>Country</th>\n",
       "      <th>Score</th>\n",
       "      <th>GDP per capita</th>\n",
       "      <th>Social support</th>\n",
       "      <th>Life expectancy</th>\n",
       "      <th>Generosity</th>\n",
       "    </tr>\n",
       "  </thead>\n",
       "  <tbody>\n",
       "    <tr>\n",
       "      <th>0</th>\n",
       "      <td>Finland</td>\n",
       "      <td>7.769</td>\n",
       "      <td>1.340</td>\n",
       "      <td>1.587</td>\n",
       "      <td>0.986</td>\n",
       "      <td>0.153</td>\n",
       "    </tr>\n",
       "    <tr>\n",
       "      <th>1</th>\n",
       "      <td>Denmark</td>\n",
       "      <td>7.600</td>\n",
       "      <td>1.383</td>\n",
       "      <td>1.573</td>\n",
       "      <td>0.996</td>\n",
       "      <td>0.252</td>\n",
       "    </tr>\n",
       "    <tr>\n",
       "      <th>2</th>\n",
       "      <td>Norway</td>\n",
       "      <td>7.554</td>\n",
       "      <td>1.488</td>\n",
       "      <td>1.582</td>\n",
       "      <td>1.028</td>\n",
       "      <td>0.271</td>\n",
       "    </tr>\n",
       "    <tr>\n",
       "      <th>3</th>\n",
       "      <td>Iceland</td>\n",
       "      <td>7.494</td>\n",
       "      <td>1.380</td>\n",
       "      <td>1.624</td>\n",
       "      <td>1.026</td>\n",
       "      <td>0.354</td>\n",
       "    </tr>\n",
       "    <tr>\n",
       "      <th>4</th>\n",
       "      <td>Netherlands</td>\n",
       "      <td>7.488</td>\n",
       "      <td>1.396</td>\n",
       "      <td>1.522</td>\n",
       "      <td>0.999</td>\n",
       "      <td>0.322</td>\n",
       "    </tr>\n",
       "  </tbody>\n",
       "</table>\n",
       "</div>"
      ],
      "text/plain": [
       "       Country  Score  GDP per capita  Social support  Life expectancy  \\\n",
       "0      Finland  7.769           1.340           1.587            0.986   \n",
       "1      Denmark  7.600           1.383           1.573            0.996   \n",
       "2       Norway  7.554           1.488           1.582            1.028   \n",
       "3      Iceland  7.494           1.380           1.624            1.026   \n",
       "4  Netherlands  7.488           1.396           1.522            0.999   \n",
       "\n",
       "   Generosity  \n",
       "0       0.153  \n",
       "1       0.252  \n",
       "2       0.271  \n",
       "3       0.354  \n",
       "4       0.322  "
      ]
     },
     "execution_count": 2,
     "metadata": {},
     "output_type": "execute_result"
    }
   ],
   "source": [
    "happiness = pd.read_csv('happiness.csv')\n",
    "happiness.head()"
   ]
  },
  {
   "cell_type": "code",
   "execution_count": 3,
   "id": "4e16e6c2",
   "metadata": {
    "ExecuteTime": {
     "end_time": "2025-03-17T23:29:53.610093Z",
     "start_time": "2025-03-17T23:29:53.602553Z"
    }
   },
   "outputs": [
    {
     "name": "stdout",
     "output_type": "stream",
     "text": [
      "display.max_rows : int\n",
      "    If max_rows is exceeded, switch to truncate view. Depending on\n",
      "    `large_repr`, objects are either centrally truncated or printed as\n",
      "    a summary view. 'None' value means unlimited.\n",
      "\n",
      "    In case python/IPython is running in a terminal and `large_repr`\n",
      "    equals 'truncate' this can be set to 0 and pandas will auto-detect\n",
      "    the height of the terminal and print a truncated object which fits\n",
      "    the screen height. The IPython notebook, IPython qtconsole, or\n",
      "    IDLE do not run in a terminal and hence it is not possible to do\n",
      "    correct auto-detection.\n",
      "    [default: 60] [currently: 60]\n"
     ]
    }
   ],
   "source": [
    "pd.describe_option('display.max_rows')"
   ]
  },
  {
   "cell_type": "code",
   "execution_count": 4,
   "id": "8aabb953",
   "metadata": {
    "ExecuteTime": {
     "end_time": "2025-03-17T23:33:45.352025Z",
     "start_time": "2025-03-17T23:33:45.347023Z"
    }
   },
   "outputs": [
    {
     "name": "stdout",
     "output_type": "stream",
     "text": [
      "display.max_columns : int\n",
      "    If max_cols is exceeded, switch to truncate view. Depending on\n",
      "    `large_repr`, objects are either centrally truncated or printed as\n",
      "    a summary view. 'None' value means unlimited.\n",
      "\n",
      "    In case python/IPython is running in a terminal and `large_repr`\n",
      "    equals 'truncate' this can be set to 0 or None and pandas will auto-detect\n",
      "    the width of the terminal and print a truncated object which fits\n",
      "    the screen width. The IPython notebook, IPython qtconsole, or IDLE\n",
      "    do not run in a terminal and hence it is not possible to do\n",
      "    correct auto-detection and defaults to 20.\n",
      "    [default: 20] [currently: 20]\n",
      "display.max_colwidth : int or None\n",
      "    The maximum width in characters of a column in the repr of\n",
      "    a pandas data structure. When the column overflows, a \"...\"\n",
      "    placeholder is embedded in the output. A 'None' value means unlimited.\n",
      "    [default: 50] [currently: 50]\n",
      "styler.render.max_columns : int, optional\n",
      "    The maximum number of columns that will be rendered. May still be reduced to\n",
      "    satisfy ``max_elements``, which takes precedence.\n",
      "    [default: None] [currently: None]\n"
     ]
    }
   ],
   "source": [
    "pd.describe_option('max_col')"
   ]
  },
  {
   "cell_type": "code",
   "execution_count": 5,
   "id": "a941e1d9",
   "metadata": {
    "ExecuteTime": {
     "end_time": "2025-03-17T23:39:18.624393Z",
     "start_time": "2025-03-17T23:39:18.619453Z"
    }
   },
   "outputs": [
    {
     "data": {
      "text/plain": [
       "60"
      ]
     },
     "execution_count": 5,
     "metadata": {},
     "output_type": "execute_result"
    }
   ],
   "source": [
    "pd.get_option('display.max_rows')"
   ]
  },
  {
   "cell_type": "code",
   "execution_count": 6,
   "id": "afa41abb",
   "metadata": {
    "ExecuteTime": {
     "end_time": "2025-03-17T23:39:27.880317Z",
     "start_time": "2025-03-17T23:39:27.875236Z"
    }
   },
   "outputs": [
    {
     "data": {
      "text/plain": [
       "60"
      ]
     },
     "execution_count": 6,
     "metadata": {},
     "output_type": "execute_result"
    }
   ],
   "source": [
    "pd.options.display.max_rows"
   ]
  },
  {
   "cell_type": "code",
   "execution_count": 7,
   "id": "6ad8e9e5",
   "metadata": {
    "ExecuteTime": {
     "end_time": "2025-03-17T23:42:26.207293Z",
     "start_time": "2025-03-17T23:42:26.202759Z"
    }
   },
   "outputs": [],
   "source": [
    "pd.set_option('display.max_rows', 6)"
   ]
  },
  {
   "cell_type": "code",
   "execution_count": 8,
   "id": "7370ddcf",
   "metadata": {
    "ExecuteTime": {
     "end_time": "2025-03-17T23:42:36.230931Z",
     "start_time": "2025-03-17T23:42:36.227398Z"
    }
   },
   "outputs": [],
   "source": [
    "pd.options.display.max_rows=6"
   ]
  },
  {
   "cell_type": "code",
   "execution_count": 9,
   "id": "9e1f2a3b",
   "metadata": {
    "ExecuteTime": {
     "end_time": "2025-03-17T23:42:55.591530Z",
     "start_time": "2025-03-17T23:42:55.586382Z"
    }
   },
   "outputs": [
    {
     "data": {
      "text/plain": [
       "6"
      ]
     },
     "execution_count": 9,
     "metadata": {},
     "output_type": "execute_result"
    }
   ],
   "source": [
    "pd.options.display.max_rows"
   ]
  },
  {
   "cell_type": "code",
   "execution_count": 10,
   "id": "786de02a",
   "metadata": {
    "ExecuteTime": {
     "end_time": "2025-03-17T23:43:53.157504Z",
     "start_time": "2025-03-17T23:43:53.146364Z"
    }
   },
   "outputs": [
    {
     "data": {
      "text/html": [
       "<div>\n",
       "<style scoped>\n",
       "    .dataframe tbody tr th:only-of-type {\n",
       "        vertical-align: middle;\n",
       "    }\n",
       "\n",
       "    .dataframe tbody tr th {\n",
       "        vertical-align: top;\n",
       "    }\n",
       "\n",
       "    .dataframe thead th {\n",
       "        text-align: right;\n",
       "    }\n",
       "</style>\n",
       "<table border=\"1\" class=\"dataframe\">\n",
       "  <thead>\n",
       "    <tr style=\"text-align: right;\">\n",
       "      <th></th>\n",
       "      <th>Country</th>\n",
       "      <th>Score</th>\n",
       "      <th>GDP per capita</th>\n",
       "      <th>Social support</th>\n",
       "      <th>Life expectancy</th>\n",
       "      <th>Generosity</th>\n",
       "    </tr>\n",
       "  </thead>\n",
       "  <tbody>\n",
       "    <tr>\n",
       "      <th>0</th>\n",
       "      <td>Finland</td>\n",
       "      <td>7.769</td>\n",
       "      <td>1.340</td>\n",
       "      <td>1.587</td>\n",
       "      <td>0.986</td>\n",
       "      <td>0.153</td>\n",
       "    </tr>\n",
       "    <tr>\n",
       "      <th>1</th>\n",
       "      <td>Denmark</td>\n",
       "      <td>7.600</td>\n",
       "      <td>1.383</td>\n",
       "      <td>1.573</td>\n",
       "      <td>0.996</td>\n",
       "      <td>0.252</td>\n",
       "    </tr>\n",
       "    <tr>\n",
       "      <th>2</th>\n",
       "      <td>Norway</td>\n",
       "      <td>7.554</td>\n",
       "      <td>1.488</td>\n",
       "      <td>1.582</td>\n",
       "      <td>1.028</td>\n",
       "      <td>0.271</td>\n",
       "    </tr>\n",
       "    <tr>\n",
       "      <th>3</th>\n",
       "      <td>Iceland</td>\n",
       "      <td>7.494</td>\n",
       "      <td>1.380</td>\n",
       "      <td>1.624</td>\n",
       "      <td>1.026</td>\n",
       "      <td>0.354</td>\n",
       "    </tr>\n",
       "    <tr>\n",
       "      <th>4</th>\n",
       "      <td>Netherlands</td>\n",
       "      <td>7.488</td>\n",
       "      <td>1.396</td>\n",
       "      <td>1.522</td>\n",
       "      <td>0.999</td>\n",
       "      <td>0.322</td>\n",
       "    </tr>\n",
       "    <tr>\n",
       "      <th>5</th>\n",
       "      <td>Switzerland</td>\n",
       "      <td>7.480</td>\n",
       "      <td>1.452</td>\n",
       "      <td>1.526</td>\n",
       "      <td>1.052</td>\n",
       "      <td>0.263</td>\n",
       "    </tr>\n",
       "  </tbody>\n",
       "</table>\n",
       "</div>"
      ],
      "text/plain": [
       "       Country  Score  GDP per capita  Social support  Life expectancy  \\\n",
       "0      Finland  7.769           1.340           1.587            0.986   \n",
       "1      Denmark  7.600           1.383           1.573            0.996   \n",
       "2       Norway  7.554           1.488           1.582            1.028   \n",
       "3      Iceland  7.494           1.380           1.624            1.026   \n",
       "4  Netherlands  7.488           1.396           1.522            0.999   \n",
       "5  Switzerland  7.480           1.452           1.526            1.052   \n",
       "\n",
       "   Generosity  \n",
       "0       0.153  \n",
       "1       0.252  \n",
       "2       0.271  \n",
       "3       0.354  \n",
       "4       0.322  \n",
       "5       0.263  "
      ]
     },
     "execution_count": 10,
     "metadata": {},
     "output_type": "execute_result"
    }
   ],
   "source": [
    "happiness.head(6)"
   ]
  },
  {
   "cell_type": "code",
   "execution_count": 11,
   "id": "f10daba4",
   "metadata": {
    "ExecuteTime": {
     "end_time": "2025-03-17T23:44:32.021903Z",
     "start_time": "2025-03-17T23:44:32.010595Z"
    }
   },
   "outputs": [
    {
     "data": {
      "text/html": [
       "<div>\n",
       "<style scoped>\n",
       "    .dataframe tbody tr th:only-of-type {\n",
       "        vertical-align: middle;\n",
       "    }\n",
       "\n",
       "    .dataframe tbody tr th {\n",
       "        vertical-align: top;\n",
       "    }\n",
       "\n",
       "    .dataframe thead th {\n",
       "        text-align: right;\n",
       "    }\n",
       "</style>\n",
       "<table border=\"1\" class=\"dataframe\">\n",
       "  <thead>\n",
       "    <tr style=\"text-align: right;\">\n",
       "      <th></th>\n",
       "      <th>Country</th>\n",
       "      <th>Score</th>\n",
       "      <th>GDP per capita</th>\n",
       "      <th>Social support</th>\n",
       "      <th>Life expectancy</th>\n",
       "      <th>Generosity</th>\n",
       "    </tr>\n",
       "  </thead>\n",
       "  <tbody>\n",
       "    <tr>\n",
       "      <th>0</th>\n",
       "      <td>Finland</td>\n",
       "      <td>7.769</td>\n",
       "      <td>1.340</td>\n",
       "      <td>1.587</td>\n",
       "      <td>0.986</td>\n",
       "      <td>0.153</td>\n",
       "    </tr>\n",
       "    <tr>\n",
       "      <th>1</th>\n",
       "      <td>Denmark</td>\n",
       "      <td>7.600</td>\n",
       "      <td>1.383</td>\n",
       "      <td>1.573</td>\n",
       "      <td>0.996</td>\n",
       "      <td>0.252</td>\n",
       "    </tr>\n",
       "    <tr>\n",
       "      <th>2</th>\n",
       "      <td>Norway</td>\n",
       "      <td>7.554</td>\n",
       "      <td>1.488</td>\n",
       "      <td>1.582</td>\n",
       "      <td>1.028</td>\n",
       "      <td>0.271</td>\n",
       "    </tr>\n",
       "    <tr>\n",
       "      <th>...</th>\n",
       "      <td>...</td>\n",
       "      <td>...</td>\n",
       "      <td>...</td>\n",
       "      <td>...</td>\n",
       "      <td>...</td>\n",
       "      <td>...</td>\n",
       "    </tr>\n",
       "    <tr>\n",
       "      <th>4</th>\n",
       "      <td>Netherlands</td>\n",
       "      <td>7.488</td>\n",
       "      <td>1.396</td>\n",
       "      <td>1.522</td>\n",
       "      <td>0.999</td>\n",
       "      <td>0.322</td>\n",
       "    </tr>\n",
       "    <tr>\n",
       "      <th>5</th>\n",
       "      <td>Switzerland</td>\n",
       "      <td>7.480</td>\n",
       "      <td>1.452</td>\n",
       "      <td>1.526</td>\n",
       "      <td>1.052</td>\n",
       "      <td>0.263</td>\n",
       "    </tr>\n",
       "    <tr>\n",
       "      <th>6</th>\n",
       "      <td>Sweden</td>\n",
       "      <td>7.343</td>\n",
       "      <td>1.387</td>\n",
       "      <td>1.487</td>\n",
       "      <td>1.009</td>\n",
       "      <td>0.267</td>\n",
       "    </tr>\n",
       "  </tbody>\n",
       "</table>\n",
       "<p>7 rows × 6 columns</p>\n",
       "</div>"
      ],
      "text/plain": [
       "        Country  Score  GDP per capita  Social support  Life expectancy  \\\n",
       "0       Finland  7.769           1.340           1.587            0.986   \n",
       "1       Denmark  7.600           1.383           1.573            0.996   \n",
       "2        Norway  7.554           1.488           1.582            1.028   \n",
       "..          ...    ...             ...             ...              ...   \n",
       "4   Netherlands  7.488           1.396           1.522            0.999   \n",
       "5   Switzerland  7.480           1.452           1.526            1.052   \n",
       "6        Sweden  7.343           1.387           1.487            1.009   \n",
       "\n",
       "    Generosity  \n",
       "0        0.153  \n",
       "1        0.252  \n",
       "2        0.271  \n",
       "..         ...  \n",
       "4        0.322  \n",
       "5        0.263  \n",
       "6        0.267  \n",
       "\n",
       "[7 rows x 6 columns]"
      ]
     },
     "execution_count": 11,
     "metadata": {},
     "output_type": "execute_result"
    }
   ],
   "source": [
    "happiness.head(7)"
   ]
  },
  {
   "cell_type": "code",
   "execution_count": 12,
   "id": "6e2eaad6",
   "metadata": {
    "ExecuteTime": {
     "end_time": "2025-03-17T23:45:44.783866Z",
     "start_time": "2025-03-17T23:45:44.778927Z"
    }
   },
   "outputs": [
    {
     "data": {
      "text/plain": [
       "20"
      ]
     },
     "execution_count": 12,
     "metadata": {},
     "output_type": "execute_result"
    }
   ],
   "source": [
    "pd.get_option('display.max_columns')"
   ]
  },
  {
   "cell_type": "code",
   "execution_count": 13,
   "id": "2ff9bdae",
   "metadata": {
    "ExecuteTime": {
     "end_time": "2025-03-17T23:45:56.551796Z",
     "start_time": "2025-03-17T23:45:56.546796Z"
    }
   },
   "outputs": [
    {
     "data": {
      "text/plain": [
       "20"
      ]
     },
     "execution_count": 13,
     "metadata": {},
     "output_type": "execute_result"
    }
   ],
   "source": [
    "pd.options.display.max_columns"
   ]
  },
  {
   "cell_type": "code",
   "execution_count": 14,
   "id": "a5738277",
   "metadata": {
    "ExecuteTime": {
     "end_time": "2025-03-17T23:48:09.694954Z",
     "start_time": "2025-03-17T23:48:09.691015Z"
    }
   },
   "outputs": [],
   "source": [
    "pd.set_option('display.max_columns', 2)"
   ]
  },
  {
   "cell_type": "code",
   "execution_count": 15,
   "id": "26744710",
   "metadata": {
    "ExecuteTime": {
     "end_time": "2025-03-17T23:48:20.726260Z",
     "start_time": "2025-03-17T23:48:20.723259Z"
    }
   },
   "outputs": [],
   "source": [
    "pd.options.display.max_columns=2"
   ]
  },
  {
   "cell_type": "code",
   "execution_count": 16,
   "id": "3862bdb2",
   "metadata": {
    "ExecuteTime": {
     "end_time": "2025-03-17T23:48:54.301267Z",
     "start_time": "2025-03-17T23:48:54.291435Z"
    }
   },
   "outputs": [
    {
     "data": {
      "text/html": [
       "<div>\n",
       "<style scoped>\n",
       "    .dataframe tbody tr th:only-of-type {\n",
       "        vertical-align: middle;\n",
       "    }\n",
       "\n",
       "    .dataframe tbody tr th {\n",
       "        vertical-align: top;\n",
       "    }\n",
       "\n",
       "    .dataframe thead th {\n",
       "        text-align: right;\n",
       "    }\n",
       "</style>\n",
       "<table border=\"1\" class=\"dataframe\">\n",
       "  <thead>\n",
       "    <tr style=\"text-align: right;\">\n",
       "      <th></th>\n",
       "      <th>Country</th>\n",
       "      <th>...</th>\n",
       "      <th>Generosity</th>\n",
       "    </tr>\n",
       "  </thead>\n",
       "  <tbody>\n",
       "    <tr>\n",
       "      <th>0</th>\n",
       "      <td>Finland</td>\n",
       "      <td>...</td>\n",
       "      <td>0.153</td>\n",
       "    </tr>\n",
       "    <tr>\n",
       "      <th>1</th>\n",
       "      <td>Denmark</td>\n",
       "      <td>...</td>\n",
       "      <td>0.252</td>\n",
       "    </tr>\n",
       "    <tr>\n",
       "      <th>2</th>\n",
       "      <td>Norway</td>\n",
       "      <td>...</td>\n",
       "      <td>0.271</td>\n",
       "    </tr>\n",
       "    <tr>\n",
       "      <th>...</th>\n",
       "      <td>...</td>\n",
       "      <td>...</td>\n",
       "      <td>...</td>\n",
       "    </tr>\n",
       "    <tr>\n",
       "      <th>4</th>\n",
       "      <td>Netherlands</td>\n",
       "      <td>...</td>\n",
       "      <td>0.322</td>\n",
       "    </tr>\n",
       "    <tr>\n",
       "      <th>5</th>\n",
       "      <td>Switzerland</td>\n",
       "      <td>...</td>\n",
       "      <td>0.263</td>\n",
       "    </tr>\n",
       "    <tr>\n",
       "      <th>6</th>\n",
       "      <td>Sweden</td>\n",
       "      <td>...</td>\n",
       "      <td>0.267</td>\n",
       "    </tr>\n",
       "  </tbody>\n",
       "</table>\n",
       "<p>7 rows × 6 columns</p>\n",
       "</div>"
      ],
      "text/plain": [
       "        Country  ...  Generosity\n",
       "0       Finland  ...       0.153\n",
       "1       Denmark  ...       0.252\n",
       "2        Norway  ...       0.271\n",
       "..          ...  ...         ...\n",
       "4   Netherlands  ...       0.322\n",
       "5   Switzerland  ...       0.263\n",
       "6        Sweden  ...       0.267\n",
       "\n",
       "[7 rows x 6 columns]"
      ]
     },
     "execution_count": 16,
     "metadata": {},
     "output_type": "execute_result"
    }
   ],
   "source": [
    "happiness.head(7)"
   ]
  },
  {
   "cell_type": "code",
   "execution_count": 17,
   "id": "39adf27f",
   "metadata": {
    "ExecuteTime": {
     "end_time": "2025-03-17T23:50:06.359081Z",
     "start_time": "2025-03-17T23:50:06.355420Z"
    }
   },
   "outputs": [],
   "source": [
    "pd.set_option('display.max_columns',5)"
   ]
  },
  {
   "cell_type": "code",
   "execution_count": 18,
   "id": "6abb5dee",
   "metadata": {
    "ExecuteTime": {
     "end_time": "2025-03-17T23:50:18.086020Z",
     "start_time": "2025-03-17T23:50:18.082216Z"
    }
   },
   "outputs": [],
   "source": [
    "pd.options.display.max_columns=5"
   ]
  },
  {
   "cell_type": "code",
   "execution_count": 19,
   "id": "3c63aaaf",
   "metadata": {
    "ExecuteTime": {
     "end_time": "2025-03-17T23:50:35.668664Z",
     "start_time": "2025-03-17T23:50:35.658613Z"
    }
   },
   "outputs": [
    {
     "data": {
      "text/html": [
       "<div>\n",
       "<style scoped>\n",
       "    .dataframe tbody tr th:only-of-type {\n",
       "        vertical-align: middle;\n",
       "    }\n",
       "\n",
       "    .dataframe tbody tr th {\n",
       "        vertical-align: top;\n",
       "    }\n",
       "\n",
       "    .dataframe thead th {\n",
       "        text-align: right;\n",
       "    }\n",
       "</style>\n",
       "<table border=\"1\" class=\"dataframe\">\n",
       "  <thead>\n",
       "    <tr style=\"text-align: right;\">\n",
       "      <th></th>\n",
       "      <th>Country</th>\n",
       "      <th>Score</th>\n",
       "      <th>...</th>\n",
       "      <th>Life expectancy</th>\n",
       "      <th>Generosity</th>\n",
       "    </tr>\n",
       "  </thead>\n",
       "  <tbody>\n",
       "    <tr>\n",
       "      <th>0</th>\n",
       "      <td>Finland</td>\n",
       "      <td>7.769</td>\n",
       "      <td>...</td>\n",
       "      <td>0.986</td>\n",
       "      <td>0.153</td>\n",
       "    </tr>\n",
       "    <tr>\n",
       "      <th>1</th>\n",
       "      <td>Denmark</td>\n",
       "      <td>7.600</td>\n",
       "      <td>...</td>\n",
       "      <td>0.996</td>\n",
       "      <td>0.252</td>\n",
       "    </tr>\n",
       "    <tr>\n",
       "      <th>2</th>\n",
       "      <td>Norway</td>\n",
       "      <td>7.554</td>\n",
       "      <td>...</td>\n",
       "      <td>1.028</td>\n",
       "      <td>0.271</td>\n",
       "    </tr>\n",
       "    <tr>\n",
       "      <th>3</th>\n",
       "      <td>Iceland</td>\n",
       "      <td>7.494</td>\n",
       "      <td>...</td>\n",
       "      <td>1.026</td>\n",
       "      <td>0.354</td>\n",
       "    </tr>\n",
       "    <tr>\n",
       "      <th>4</th>\n",
       "      <td>Netherlands</td>\n",
       "      <td>7.488</td>\n",
       "      <td>...</td>\n",
       "      <td>0.999</td>\n",
       "      <td>0.322</td>\n",
       "    </tr>\n",
       "  </tbody>\n",
       "</table>\n",
       "<p>5 rows × 6 columns</p>\n",
       "</div>"
      ],
      "text/plain": [
       "       Country  Score  ...  Life expectancy  Generosity\n",
       "0      Finland  7.769  ...            0.986       0.153\n",
       "1      Denmark  7.600  ...            0.996       0.252\n",
       "2       Norway  7.554  ...            1.028       0.271\n",
       "3      Iceland  7.494  ...            1.026       0.354\n",
       "4  Netherlands  7.488  ...            0.999       0.322\n",
       "\n",
       "[5 rows x 6 columns]"
      ]
     },
     "execution_count": 19,
     "metadata": {},
     "output_type": "execute_result"
    }
   ],
   "source": [
    "happiness.head()"
   ]
  },
  {
   "cell_type": "code",
   "execution_count": 20,
   "id": "fa9987df",
   "metadata": {
    "ExecuteTime": {
     "end_time": "2025-03-17T23:52:51.631531Z",
     "start_time": "2025-03-17T23:52:51.628012Z"
    }
   },
   "outputs": [],
   "source": [
    "pd.reset_option('display.max_rows')"
   ]
  },
  {
   "cell_type": "code",
   "execution_count": 21,
   "id": "4c1d3d97",
   "metadata": {
    "ExecuteTime": {
     "end_time": "2025-03-17T23:53:08.935446Z",
     "start_time": "2025-03-17T23:53:08.930953Z"
    }
   },
   "outputs": [
    {
     "data": {
      "text/plain": [
       "60"
      ]
     },
     "execution_count": 21,
     "metadata": {},
     "output_type": "execute_result"
    }
   ],
   "source": [
    "pd.get_option('display.max_rows')"
   ]
  },
  {
   "cell_type": "code",
   "execution_count": 22,
   "id": "02ca013d",
   "metadata": {
    "ExecuteTime": {
     "end_time": "2025-03-17T23:55:48.407444Z",
     "start_time": "2025-03-17T23:55:48.403848Z"
    }
   },
   "outputs": [
    {
     "name": "stdout",
     "output_type": "stream",
     "text": [
      "display.precision : int\n",
      "    Floating point output precision in terms of number of places after the\n",
      "    decimal, for regular formatting as well as scientific notation. Similar\n",
      "    to ``precision`` in :meth:`numpy.set_printoptions`.\n",
      "    [default: 6] [currently: 6]\n"
     ]
    }
   ],
   "source": [
    "pd.describe_option('display.precision')"
   ]
  },
  {
   "cell_type": "code",
   "execution_count": 23,
   "id": "29003425",
   "metadata": {
    "ExecuteTime": {
     "end_time": "2025-03-17T23:56:17.310134Z",
     "start_time": "2025-03-17T23:56:17.307013Z"
    }
   },
   "outputs": [],
   "source": [
    "pd.set_option('display.precision', 2)"
   ]
  },
  {
   "cell_type": "code",
   "execution_count": 24,
   "id": "361eca38",
   "metadata": {
    "ExecuteTime": {
     "end_time": "2025-03-17T23:56:26.767296Z",
     "start_time": "2025-03-17T23:56:26.763766Z"
    }
   },
   "outputs": [],
   "source": [
    "pd.options.display.precision=2"
   ]
  },
  {
   "cell_type": "code",
   "execution_count": 25,
   "id": "8b1dce5e",
   "metadata": {
    "ExecuteTime": {
     "end_time": "2025-03-17T23:56:34.117196Z",
     "start_time": "2025-03-17T23:56:34.107052Z"
    }
   },
   "outputs": [
    {
     "data": {
      "text/html": [
       "<div>\n",
       "<style scoped>\n",
       "    .dataframe tbody tr th:only-of-type {\n",
       "        vertical-align: middle;\n",
       "    }\n",
       "\n",
       "    .dataframe tbody tr th {\n",
       "        vertical-align: top;\n",
       "    }\n",
       "\n",
       "    .dataframe thead th {\n",
       "        text-align: right;\n",
       "    }\n",
       "</style>\n",
       "<table border=\"1\" class=\"dataframe\">\n",
       "  <thead>\n",
       "    <tr style=\"text-align: right;\">\n",
       "      <th></th>\n",
       "      <th>Country</th>\n",
       "      <th>Score</th>\n",
       "      <th>...</th>\n",
       "      <th>Life expectancy</th>\n",
       "      <th>Generosity</th>\n",
       "    </tr>\n",
       "  </thead>\n",
       "  <tbody>\n",
       "    <tr>\n",
       "      <th>0</th>\n",
       "      <td>Finland</td>\n",
       "      <td>7.77</td>\n",
       "      <td>...</td>\n",
       "      <td>0.99</td>\n",
       "      <td>0.15</td>\n",
       "    </tr>\n",
       "    <tr>\n",
       "      <th>1</th>\n",
       "      <td>Denmark</td>\n",
       "      <td>7.60</td>\n",
       "      <td>...</td>\n",
       "      <td>1.00</td>\n",
       "      <td>0.25</td>\n",
       "    </tr>\n",
       "    <tr>\n",
       "      <th>2</th>\n",
       "      <td>Norway</td>\n",
       "      <td>7.55</td>\n",
       "      <td>...</td>\n",
       "      <td>1.03</td>\n",
       "      <td>0.27</td>\n",
       "    </tr>\n",
       "    <tr>\n",
       "      <th>3</th>\n",
       "      <td>Iceland</td>\n",
       "      <td>7.49</td>\n",
       "      <td>...</td>\n",
       "      <td>1.03</td>\n",
       "      <td>0.35</td>\n",
       "    </tr>\n",
       "    <tr>\n",
       "      <th>4</th>\n",
       "      <td>Netherlands</td>\n",
       "      <td>7.49</td>\n",
       "      <td>...</td>\n",
       "      <td>1.00</td>\n",
       "      <td>0.32</td>\n",
       "    </tr>\n",
       "  </tbody>\n",
       "</table>\n",
       "<p>5 rows × 6 columns</p>\n",
       "</div>"
      ],
      "text/plain": [
       "       Country  Score  ...  Life expectancy  Generosity\n",
       "0      Finland   7.77  ...             0.99        0.15\n",
       "1      Denmark   7.60  ...             1.00        0.25\n",
       "2       Norway   7.55  ...             1.03        0.27\n",
       "3      Iceland   7.49  ...             1.03        0.35\n",
       "4  Netherlands   7.49  ...             1.00        0.32\n",
       "\n",
       "[5 rows x 6 columns]"
      ]
     },
     "execution_count": 25,
     "metadata": {},
     "output_type": "execute_result"
    }
   ],
   "source": [
    "happiness.head()"
   ]
  },
  {
   "cell_type": "code",
   "execution_count": 26,
   "id": "5b882744",
   "metadata": {
    "ExecuteTime": {
     "end_time": "2025-03-17T23:57:33.081396Z",
     "start_time": "2025-03-17T23:57:33.076170Z"
    }
   },
   "outputs": [
    {
     "data": {
      "text/plain": [
       "7.769"
      ]
     },
     "execution_count": 26,
     "metadata": {},
     "output_type": "execute_result"
    }
   ],
   "source": [
    "happiness.loc[0, 'Score']"
   ]
  },
  {
   "cell_type": "code",
   "execution_count": 27,
   "id": "cd5fd61f",
   "metadata": {
    "ExecuteTime": {
     "end_time": "2025-03-17T23:59:03.560563Z",
     "start_time": "2025-03-17T23:59:03.555562Z"
    }
   },
   "outputs": [
    {
     "name": "stdout",
     "output_type": "stream",
     "text": [
      "display.max_colwidth : int or None\n",
      "    The maximum width in characters of a column in the repr of\n",
      "    a pandas data structure. When the column overflows, a \"...\"\n",
      "    placeholder is embedded in the output. A 'None' value means unlimited.\n",
      "    [default: 50] [currently: 50]\n"
     ]
    }
   ],
   "source": [
    "pd.describe_option('display.max_colwidth')"
   ]
  },
  {
   "cell_type": "code",
   "execution_count": 28,
   "id": "68d850d7",
   "metadata": {
    "ExecuteTime": {
     "end_time": "2025-03-17T23:59:32.190685Z",
     "start_time": "2025-03-17T23:59:32.187424Z"
    }
   },
   "outputs": [],
   "source": [
    "pd.set_option('display.max_colwidth', 9)"
   ]
  },
  {
   "cell_type": "code",
   "execution_count": 29,
   "id": "705998e5",
   "metadata": {
    "ExecuteTime": {
     "end_time": "2025-03-17T23:59:48.199618Z",
     "start_time": "2025-03-17T23:59:48.196632Z"
    }
   },
   "outputs": [],
   "source": [
    "pd.options.display.max_colwidth = 9"
   ]
  },
  {
   "cell_type": "code",
   "execution_count": 30,
   "id": "4897972b",
   "metadata": {
    "ExecuteTime": {
     "end_time": "2025-03-17T23:59:57.813217Z",
     "start_time": "2025-03-17T23:59:57.804153Z"
    }
   },
   "outputs": [
    {
     "data": {
      "text/html": [
       "<div>\n",
       "<style scoped>\n",
       "    .dataframe tbody tr th:only-of-type {\n",
       "        vertical-align: middle;\n",
       "    }\n",
       "\n",
       "    .dataframe tbody tr th {\n",
       "        vertical-align: top;\n",
       "    }\n",
       "\n",
       "    .dataframe thead th {\n",
       "        text-align: right;\n",
       "    }\n",
       "</style>\n",
       "<table border=\"1\" class=\"dataframe\">\n",
       "  <thead>\n",
       "    <tr style=\"text-align: right;\">\n",
       "      <th></th>\n",
       "      <th>Country</th>\n",
       "      <th>Score</th>\n",
       "      <th>...</th>\n",
       "      <th>Life expectancy</th>\n",
       "      <th>Generosity</th>\n",
       "    </tr>\n",
       "  </thead>\n",
       "  <tbody>\n",
       "    <tr>\n",
       "      <th>151</th>\n",
       "      <td>Rwanda</td>\n",
       "      <td>3.33</td>\n",
       "      <td>...</td>\n",
       "      <td>0.61</td>\n",
       "      <td>0.22</td>\n",
       "    </tr>\n",
       "    <tr>\n",
       "      <th>152</th>\n",
       "      <td>Tanzania</td>\n",
       "      <td>3.23</td>\n",
       "      <td>...</td>\n",
       "      <td>0.50</td>\n",
       "      <td>0.28</td>\n",
       "    </tr>\n",
       "    <tr>\n",
       "      <th>153</th>\n",
       "      <td>Afgha...</td>\n",
       "      <td>3.20</td>\n",
       "      <td>...</td>\n",
       "      <td>0.36</td>\n",
       "      <td>0.16</td>\n",
       "    </tr>\n",
       "    <tr>\n",
       "      <th>154</th>\n",
       "      <td>Centr...</td>\n",
       "      <td>3.08</td>\n",
       "      <td>...</td>\n",
       "      <td>0.10</td>\n",
       "      <td>0.23</td>\n",
       "    </tr>\n",
       "    <tr>\n",
       "      <th>155</th>\n",
       "      <td>South...</td>\n",
       "      <td>2.85</td>\n",
       "      <td>...</td>\n",
       "      <td>0.29</td>\n",
       "      <td>0.20</td>\n",
       "    </tr>\n",
       "  </tbody>\n",
       "</table>\n",
       "<p>5 rows × 6 columns</p>\n",
       "</div>"
      ],
      "text/plain": [
       "      Country  Score  ...  Life expectancy  Generosity\n",
       "151    Rwanda   3.33  ...      0.61             0.22  \n",
       "152  Tanzania   3.23  ...      0.50             0.28  \n",
       "153  Afgha...   3.20  ...      0.36             0.16  \n",
       "154  Centr...   3.08  ...      0.10             0.23  \n",
       "155  South...   2.85  ...      0.29             0.20  \n",
       "\n",
       "[5 rows x 6 columns]"
      ]
     },
     "execution_count": 30,
     "metadata": {},
     "output_type": "execute_result"
    }
   ],
   "source": [
    "happiness.tail()"
   ]
  },
  {
   "cell_type": "code",
   "execution_count": 31,
   "id": "331da0bf",
   "metadata": {
    "ExecuteTime": {
     "end_time": "2025-03-18T00:05:15.257801Z",
     "start_time": "2025-03-18T00:05:15.252352Z"
    }
   },
   "outputs": [
    {
     "name": "stdout",
     "output_type": "stream",
     "text": [
      "display.chop_threshold : float or None\n",
      "    if set to a float value, all float values smaller than the given threshold\n",
      "    will be displayed as exactly 0 by repr and friends.\n",
      "    [default: None] [currently: None]\n"
     ]
    }
   ],
   "source": [
    "pd.describe_option('display.chop_threshold')"
   ]
  },
  {
   "cell_type": "code",
   "execution_count": 32,
   "id": "025216e0",
   "metadata": {
    "ExecuteTime": {
     "end_time": "2025-03-18T00:05:38.039302Z",
     "start_time": "2025-03-18T00:05:38.035853Z"
    }
   },
   "outputs": [],
   "source": [
    "pd.set_option('display.chop_threshold', 0.25)"
   ]
  },
  {
   "cell_type": "code",
   "execution_count": 33,
   "id": "387fa8ca",
   "metadata": {
    "ExecuteTime": {
     "end_time": "2025-03-18T00:06:53.910118Z",
     "start_time": "2025-03-18T00:06:53.900180Z"
    }
   },
   "outputs": [
    {
     "data": {
      "text/html": [
       "<div>\n",
       "<style scoped>\n",
       "    .dataframe tbody tr th:only-of-type {\n",
       "        vertical-align: middle;\n",
       "    }\n",
       "\n",
       "    .dataframe tbody tr th {\n",
       "        vertical-align: top;\n",
       "    }\n",
       "\n",
       "    .dataframe thead th {\n",
       "        text-align: right;\n",
       "    }\n",
       "</style>\n",
       "<table border=\"1\" class=\"dataframe\">\n",
       "  <thead>\n",
       "    <tr style=\"text-align: right;\">\n",
       "      <th></th>\n",
       "      <th>Country</th>\n",
       "      <th>Score</th>\n",
       "      <th>...</th>\n",
       "      <th>Life expectancy</th>\n",
       "      <th>Generosity</th>\n",
       "    </tr>\n",
       "  </thead>\n",
       "  <tbody>\n",
       "    <tr>\n",
       "      <th>151</th>\n",
       "      <td>Rwanda</td>\n",
       "      <td>3.33</td>\n",
       "      <td>...</td>\n",
       "      <td>0.61</td>\n",
       "      <td>0.00</td>\n",
       "    </tr>\n",
       "    <tr>\n",
       "      <th>152</th>\n",
       "      <td>Tanzania</td>\n",
       "      <td>3.23</td>\n",
       "      <td>...</td>\n",
       "      <td>0.50</td>\n",
       "      <td>0.28</td>\n",
       "    </tr>\n",
       "    <tr>\n",
       "      <th>153</th>\n",
       "      <td>Afgha...</td>\n",
       "      <td>3.20</td>\n",
       "      <td>...</td>\n",
       "      <td>0.36</td>\n",
       "      <td>0.00</td>\n",
       "    </tr>\n",
       "    <tr>\n",
       "      <th>154</th>\n",
       "      <td>Centr...</td>\n",
       "      <td>3.08</td>\n",
       "      <td>...</td>\n",
       "      <td>0.00</td>\n",
       "      <td>0.00</td>\n",
       "    </tr>\n",
       "    <tr>\n",
       "      <th>155</th>\n",
       "      <td>South...</td>\n",
       "      <td>2.85</td>\n",
       "      <td>...</td>\n",
       "      <td>0.29</td>\n",
       "      <td>0.00</td>\n",
       "    </tr>\n",
       "  </tbody>\n",
       "</table>\n",
       "<p>5 rows × 6 columns</p>\n",
       "</div>"
      ],
      "text/plain": [
       "      Country  Score  ...  Life expectancy  Generosity\n",
       "151    Rwanda   3.33  ...      0.61             0.00  \n",
       "152  Tanzania   3.23  ...      0.50             0.28  \n",
       "153  Afgha...   3.20  ...      0.36             0.00  \n",
       "154  Centr...   3.08  ...      0.00             0.00  \n",
       "155  South...   2.85  ...      0.29             0.00  \n",
       "\n",
       "[5 rows x 6 columns]"
      ]
     },
     "execution_count": 33,
     "metadata": {},
     "output_type": "execute_result"
    }
   ],
   "source": [
    "happiness.tail()"
   ]
  },
  {
   "cell_type": "code",
   "execution_count": 34,
   "id": "14a3cd41",
   "metadata": {
    "ExecuteTime": {
     "end_time": "2025-03-18T00:14:29.896620Z",
     "start_time": "2025-03-18T00:14:29.885023Z"
    }
   },
   "outputs": [
    {
     "data": {
      "text/html": [
       "<div>\n",
       "<style scoped>\n",
       "    .dataframe tbody tr th:only-of-type {\n",
       "        vertical-align: middle;\n",
       "    }\n",
       "\n",
       "    .dataframe tbody tr th {\n",
       "        vertical-align: top;\n",
       "    }\n",
       "\n",
       "    .dataframe thead th {\n",
       "        text-align: right;\n",
       "    }\n",
       "</style>\n",
       "<table border=\"1\" class=\"dataframe\">\n",
       "  <thead>\n",
       "    <tr style=\"text-align: right;\">\n",
       "      <th></th>\n",
       "      <th>Country</th>\n",
       "      <th>Score</th>\n",
       "      <th>...</th>\n",
       "      <th>Life expectancy</th>\n",
       "      <th>Generosity</th>\n",
       "    </tr>\n",
       "  </thead>\n",
       "  <tbody>\n",
       "    <tr>\n",
       "      <th>0</th>\n",
       "      <td>Finland</td>\n",
       "      <td>7.769</td>\n",
       "      <td>...</td>\n",
       "      <td>0.986</td>\n",
       "      <td>0.000</td>\n",
       "    </tr>\n",
       "    <tr>\n",
       "      <th>1</th>\n",
       "      <td>Denmark</td>\n",
       "      <td>7.600</td>\n",
       "      <td>...</td>\n",
       "      <td>0.996</td>\n",
       "      <td>0.252</td>\n",
       "    </tr>\n",
       "    <tr>\n",
       "      <th>2</th>\n",
       "      <td>Norway</td>\n",
       "      <td>7.554</td>\n",
       "      <td>...</td>\n",
       "      <td>1.028</td>\n",
       "      <td>0.271</td>\n",
       "    </tr>\n",
       "    <tr>\n",
       "      <th>3</th>\n",
       "      <td>Iceland</td>\n",
       "      <td>7.494</td>\n",
       "      <td>...</td>\n",
       "      <td>1.026</td>\n",
       "      <td>0.354</td>\n",
       "    </tr>\n",
       "    <tr>\n",
       "      <th>4</th>\n",
       "      <td>Nethe...</td>\n",
       "      <td>7.488</td>\n",
       "      <td>...</td>\n",
       "      <td>0.999</td>\n",
       "      <td>0.322</td>\n",
       "    </tr>\n",
       "    <tr>\n",
       "      <th>...</th>\n",
       "      <td>...</td>\n",
       "      <td>...</td>\n",
       "      <td>...</td>\n",
       "      <td>...</td>\n",
       "      <td>...</td>\n",
       "    </tr>\n",
       "    <tr>\n",
       "      <th>151</th>\n",
       "      <td>Rwanda</td>\n",
       "      <td>3.334</td>\n",
       "      <td>...</td>\n",
       "      <td>0.614</td>\n",
       "      <td>0.000</td>\n",
       "    </tr>\n",
       "    <tr>\n",
       "      <th>152</th>\n",
       "      <td>Tanzania</td>\n",
       "      <td>3.231</td>\n",
       "      <td>...</td>\n",
       "      <td>0.499</td>\n",
       "      <td>0.276</td>\n",
       "    </tr>\n",
       "    <tr>\n",
       "      <th>153</th>\n",
       "      <td>Afgha...</td>\n",
       "      <td>3.203</td>\n",
       "      <td>...</td>\n",
       "      <td>0.361</td>\n",
       "      <td>0.000</td>\n",
       "    </tr>\n",
       "    <tr>\n",
       "      <th>154</th>\n",
       "      <td>Centr...</td>\n",
       "      <td>3.083</td>\n",
       "      <td>...</td>\n",
       "      <td>0.000</td>\n",
       "      <td>0.000</td>\n",
       "    </tr>\n",
       "    <tr>\n",
       "      <th>155</th>\n",
       "      <td>South...</td>\n",
       "      <td>2.853</td>\n",
       "      <td>...</td>\n",
       "      <td>0.295</td>\n",
       "      <td>0.000</td>\n",
       "    </tr>\n",
       "  </tbody>\n",
       "</table>\n",
       "<p>156 rows × 6 columns</p>\n",
       "</div>"
      ],
      "text/plain": [
       "      Country  Score  ...  Life expectancy  Generosity\n",
       "0     Finland  7.769  ...     0.986            0.000  \n",
       "1     Denmark  7.600  ...     0.996            0.252  \n",
       "2      Norway  7.554  ...     1.028            0.271  \n",
       "3     Iceland  7.494  ...     1.026            0.354  \n",
       "4    Nethe...  7.488  ...     0.999            0.322  \n",
       "..        ...    ...  ...       ...              ...  \n",
       "151    Rwanda  3.334  ...     0.614            0.000  \n",
       "152  Tanzania  3.231  ...     0.499            0.276  \n",
       "153  Afgha...  3.203  ...     0.361            0.000  \n",
       "154  Centr...  3.083  ...     0.000            0.000  \n",
       "155  South...  2.853  ...     0.295            0.000  \n",
       "\n",
       "[156 rows x 6 columns]"
      ]
     },
     "metadata": {},
     "output_type": "display_data"
    }
   ],
   "source": [
    "with pd.option_context('display.max_columns', 5,\n",
    "                      'display.max_rows', 10,\n",
    "                      'display.precision', 3):\n",
    "    display(happiness)"
   ]
  },
  {
   "cell_type": "code",
   "execution_count": null,
   "id": "590395f5",
   "metadata": {},
   "outputs": [],
   "source": []
  }
 ],
 "metadata": {
  "kernelspec": {
   "display_name": "Python 3 (ipykernel)",
   "language": "python",
   "name": "python3"
  },
  "language_info": {
   "codemirror_mode": {
    "name": "ipython",
    "version": 3
   },
   "file_extension": ".py",
   "mimetype": "text/x-python",
   "name": "python",
   "nbconvert_exporter": "python",
   "pygments_lexer": "ipython3",
   "version": "3.11.5"
  },
  "toc": {
   "base_numbering": 1,
   "nav_menu": {},
   "number_sections": true,
   "sideBar": true,
   "skip_h1_title": false,
   "title_cell": "Table of Contents",
   "title_sidebar": "Contents",
   "toc_cell": false,
   "toc_position": {},
   "toc_section_display": true,
   "toc_window_display": false
  }
 },
 "nbformat": 4,
 "nbformat_minor": 5
}
